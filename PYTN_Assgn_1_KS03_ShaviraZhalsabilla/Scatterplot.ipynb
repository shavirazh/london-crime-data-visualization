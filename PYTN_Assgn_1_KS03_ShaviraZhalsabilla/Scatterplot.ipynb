{
 "cells": [
  {
   "cell_type": "markdown",
   "id": "64762b08",
   "metadata": {},
   "source": [
    "# Scatterplot\n",
    "---\n",
    "Scatterplot adalah metode yang berguna untuk membandingkan variabel satu sama lain. Scatterplot terlihat mirip dengan [Line Plot]() karena keduanya memetakan variabel independen dan dependen pada grafik 2-dimensi. Perbedaannya, scatterplot direpresentasikan dengan _data points_ yang tidak terhubung oleh garis. Data dalam scatterplot dianggap mengekspresikan suatu tren. Dengan anaisis lebih lanjut, scatterplot dapat digunakan untuk _tools_ seperti regresi."
   ]
  },
  {
   "cell_type": "markdown",
   "id": "5fa39b82",
   "metadata": {},
   "source": [
    "## Load Data"
   ]
  },
  {
   "cell_type": "code",
   "execution_count": 1,
   "id": "cacdada7",
   "metadata": {},
   "outputs": [],
   "source": [
    "import pandas as pd\n",
    "import numpy as np\n",
    "import matplotlib.pyplot as plt"
   ]
  },
  {
   "cell_type": "code",
   "execution_count": 6,
   "id": "2a495f0a",
   "metadata": {},
   "outputs": [],
   "source": [
    "london_crime = pd.read_csv(\"london_crime_by_lsoa.csv\")"
   ]
  },
  {
   "cell_type": "markdown",
   "id": "6a18b961",
   "metadata": {},
   "source": [
    "### Dengan menggunakan Scatterplot, kita dapat memperoleh informasi sebagai berikut:"
   ]
  },
  {
   "cell_type": "markdown",
   "id": "861cc987",
   "metadata": {},
   "source": [
    "---\n",
    "#### Question: Pada bulan apa jumlah kejahatan/kriminal di London mencapai angka tertinggi selama tahun 2008-2016?"
   ]
  },
  {
   "cell_type": "markdown",
   "id": "b6ba14a6",
   "metadata": {},
   "source": [
    "Sebelumnya, kita sudah mendapatkan informasi mengenai tren tahunan jumlah kejahatan/kriminal di London baik itu berdasarkan wilayah maupun kategorinya. Menggunakan scatterplot, kita dapat mengetahui tren bulanan jumlah kejahatan/kriminal di London dengan representasi _data points_."
   ]
  },
  {
   "cell_type": "code",
   "execution_count": 13,
   "id": "9c07ba3b",
   "metadata": {},
   "outputs": [
    {
     "data": {
      "text/html": [
       "<div>\n",
       "<style scoped>\n",
       "    .dataframe tbody tr th:only-of-type {\n",
       "        vertical-align: middle;\n",
       "    }\n",
       "\n",
       "    .dataframe tbody tr th {\n",
       "        vertical-align: top;\n",
       "    }\n",
       "\n",
       "    .dataframe thead th {\n",
       "        text-align: right;\n",
       "    }\n",
       "</style>\n",
       "<table border=\"1\" class=\"dataframe\">\n",
       "  <thead>\n",
       "    <tr style=\"text-align: right;\">\n",
       "      <th></th>\n",
       "      <th>month</th>\n",
       "      <th>value</th>\n",
       "    </tr>\n",
       "  </thead>\n",
       "  <tbody>\n",
       "    <tr>\n",
       "      <th>0</th>\n",
       "      <td>1</td>\n",
       "      <td>530247</td>\n",
       "    </tr>\n",
       "    <tr>\n",
       "      <th>1</th>\n",
       "      <td>2</td>\n",
       "      <td>500537</td>\n",
       "    </tr>\n",
       "    <tr>\n",
       "      <th>2</th>\n",
       "      <td>3</td>\n",
       "      <td>551795</td>\n",
       "    </tr>\n",
       "    <tr>\n",
       "      <th>3</th>\n",
       "      <td>4</td>\n",
       "      <td>520648</td>\n",
       "    </tr>\n",
       "    <tr>\n",
       "      <th>4</th>\n",
       "      <td>5</td>\n",
       "      <td>552704</td>\n",
       "    </tr>\n",
       "    <tr>\n",
       "      <th>5</th>\n",
       "      <td>6</td>\n",
       "      <td>549041</td>\n",
       "    </tr>\n",
       "    <tr>\n",
       "      <th>6</th>\n",
       "      <td>7</td>\n",
       "      <td>563076</td>\n",
       "    </tr>\n",
       "    <tr>\n",
       "      <th>7</th>\n",
       "      <td>8</td>\n",
       "      <td>532784</td>\n",
       "    </tr>\n",
       "    <tr>\n",
       "      <th>8</th>\n",
       "      <td>9</td>\n",
       "      <td>522377</td>\n",
       "    </tr>\n",
       "    <tr>\n",
       "      <th>9</th>\n",
       "      <td>10</td>\n",
       "      <td>558252</td>\n",
       "    </tr>\n",
       "    <tr>\n",
       "      <th>10</th>\n",
       "      <td>11</td>\n",
       "      <td>549671</td>\n",
       "    </tr>\n",
       "    <tr>\n",
       "      <th>11</th>\n",
       "      <td>12</td>\n",
       "      <td>516626</td>\n",
       "    </tr>\n",
       "  </tbody>\n",
       "</table>\n",
       "</div>"
      ],
      "text/plain": [
       "    month   value\n",
       "0       1  530247\n",
       "1       2  500537\n",
       "2       3  551795\n",
       "3       4  520648\n",
       "4       5  552704\n",
       "5       6  549041\n",
       "6       7  563076\n",
       "7       8  532784\n",
       "8       9  522377\n",
       "9      10  558252\n",
       "10     11  549671\n",
       "11     12  516626"
      ]
     },
     "execution_count": 13,
     "metadata": {},
     "output_type": "execute_result"
    }
   ],
   "source": [
    "month_crime = london_crime.drop([\"lsoa_code\",\"borough\",\"major_category\",\"minor_category\",\"year\"], axis=1)\n",
    "month_crime = month_crime.groupby(\"month\").sum()\n",
    "month_crime = month_crime.reset_index()\n",
    "month_crime"
   ]
  },
  {
   "cell_type": "code",
   "execution_count": 15,
   "id": "d9c580cd",
   "metadata": {},
   "outputs": [
    {
     "data": {
      "image/png": "[encoded data removed]",
      "text/plain": [
       "<Figure size 1080x504 with 1 Axes>"
      ]
     },
     "metadata": {
      "needs_background": "light"
     },
     "output_type": "display_data"
    }
   ],
   "source": [
    "months = np.arange(len(month_crime[\"month\"])+1)\n",
    "name_of_months=['0','Jan','Feb','Mar','Apr','May','Jun','Jul','Aug','Sep','Oct','Nov','Dec']\n",
    "\n",
    "month_crime.plot(kind=\"scatter\", x=\"month\",y=\"value\",figsize=(15,7), color=\"darkblue\")\n",
    "plt.title(\"Number of Crime from Each Month in 2008-2016\", fontsize=20)\n",
    "plt.xlabel(\"Month\", fontsize=15)\n",
    "plt.ylabel(\"Crime Number\", fontsize=15)\n",
    "plt.xticks(months, name_of_months)\n",
    "plt.grid(color=\"grey\", linewidth=0.5)\n",
    "plt.show()"
   ]
  },
  {
   "cell_type": "markdown",
   "id": "58f26969",
   "metadata": {},
   "source": [
    "Bulan yang sama selama tahun 2008-2016 dijumlahkan dan dihasilkan angka kasus kejahatan/kriminal di London yang paling tinggi adalah bulan Juli dan yang paling rendah adalah bulan Februari."
   ]
  },
  {
   "cell_type": "markdown",
   "id": "08810e9a",
   "metadata": {},
   "source": [
    "---\n",
    "#### Question: Pada bulan apa jumlah kasus kejahatan/kriminal di London mencapai angka tertinggi pada tahun 2008?"
   ]
  },
  {
   "cell_type": "markdown",
   "id": "764598ba",
   "metadata": {},
   "source": [
    "Lebih spesifiknya lagi, kita dapat melihat di tahun 2008, bulan apa jumlah kasus kejahatan/kriminal di London mencapai angka tertinggi.\n",
    "\n",
    "Catatan: kita dapat memperoleh informasi ini dengan [Bar Chart](), hanya berbeda representasinya."
   ]
  },
  {
   "cell_type": "code",
   "execution_count": 16,
   "id": "fba32250",
   "metadata": {},
   "outputs": [
    {
     "data": {
      "text/html": [
       "<div>\n",
       "<style scoped>\n",
       "    .dataframe tbody tr th:only-of-type {\n",
       "        vertical-align: middle;\n",
       "    }\n",
       "\n",
       "    .dataframe tbody tr th {\n",
       "        vertical-align: top;\n",
       "    }\n",
       "\n",
       "    .dataframe thead th {\n",
       "        text-align: right;\n",
       "    }\n",
       "</style>\n",
       "<table border=\"1\" class=\"dataframe\">\n",
       "  <thead>\n",
       "    <tr style=\"text-align: right;\">\n",
       "      <th></th>\n",
       "      <th>lsoa_code</th>\n",
       "      <th>borough</th>\n",
       "      <th>major_category</th>\n",
       "      <th>minor_category</th>\n",
       "      <th>value</th>\n",
       "      <th>year</th>\n",
       "      <th>month</th>\n",
       "    </tr>\n",
       "  </thead>\n",
       "  <tbody>\n",
       "    <tr>\n",
       "      <th>0</th>\n",
       "      <td>E01001116</td>\n",
       "      <td>Croydon</td>\n",
       "      <td>Burglary</td>\n",
       "      <td>Burglary in Other Buildings</td>\n",
       "      <td>0</td>\n",
       "      <td>2016</td>\n",
       "      <td>11</td>\n",
       "    </tr>\n",
       "    <tr>\n",
       "      <th>1</th>\n",
       "      <td>E01001646</td>\n",
       "      <td>Greenwich</td>\n",
       "      <td>Violence Against the Person</td>\n",
       "      <td>Other violence</td>\n",
       "      <td>0</td>\n",
       "      <td>2016</td>\n",
       "      <td>11</td>\n",
       "    </tr>\n",
       "    <tr>\n",
       "      <th>2</th>\n",
       "      <td>E01000677</td>\n",
       "      <td>Bromley</td>\n",
       "      <td>Violence Against the Person</td>\n",
       "      <td>Other violence</td>\n",
       "      <td>0</td>\n",
       "      <td>2015</td>\n",
       "      <td>5</td>\n",
       "    </tr>\n",
       "    <tr>\n",
       "      <th>3</th>\n",
       "      <td>E01003774</td>\n",
       "      <td>Redbridge</td>\n",
       "      <td>Burglary</td>\n",
       "      <td>Burglary in Other Buildings</td>\n",
       "      <td>0</td>\n",
       "      <td>2016</td>\n",
       "      <td>3</td>\n",
       "    </tr>\n",
       "    <tr>\n",
       "      <th>4</th>\n",
       "      <td>E01004563</td>\n",
       "      <td>Wandsworth</td>\n",
       "      <td>Robbery</td>\n",
       "      <td>Personal Property</td>\n",
       "      <td>0</td>\n",
       "      <td>2008</td>\n",
       "      <td>6</td>\n",
       "    </tr>\n",
       "    <tr>\n",
       "      <th>...</th>\n",
       "      <td>...</td>\n",
       "      <td>...</td>\n",
       "      <td>...</td>\n",
       "      <td>...</td>\n",
       "      <td>...</td>\n",
       "      <td>...</td>\n",
       "      <td>...</td>\n",
       "    </tr>\n",
       "    <tr>\n",
       "      <th>13490599</th>\n",
       "      <td>E01000504</td>\n",
       "      <td>Brent</td>\n",
       "      <td>Criminal Damage</td>\n",
       "      <td>Criminal Damage To Dwelling</td>\n",
       "      <td>0</td>\n",
       "      <td>2015</td>\n",
       "      <td>2</td>\n",
       "    </tr>\n",
       "    <tr>\n",
       "      <th>13490600</th>\n",
       "      <td>E01002504</td>\n",
       "      <td>Hillingdon</td>\n",
       "      <td>Robbery</td>\n",
       "      <td>Personal Property</td>\n",
       "      <td>1</td>\n",
       "      <td>2015</td>\n",
       "      <td>6</td>\n",
       "    </tr>\n",
       "    <tr>\n",
       "      <th>13490601</th>\n",
       "      <td>E01004165</td>\n",
       "      <td>Sutton</td>\n",
       "      <td>Burglary</td>\n",
       "      <td>Burglary in a Dwelling</td>\n",
       "      <td>0</td>\n",
       "      <td>2011</td>\n",
       "      <td>2</td>\n",
       "    </tr>\n",
       "    <tr>\n",
       "      <th>13490602</th>\n",
       "      <td>E01001134</td>\n",
       "      <td>Croydon</td>\n",
       "      <td>Robbery</td>\n",
       "      <td>Business Property</td>\n",
       "      <td>0</td>\n",
       "      <td>2011</td>\n",
       "      <td>5</td>\n",
       "    </tr>\n",
       "    <tr>\n",
       "      <th>13490603</th>\n",
       "      <td>E01003413</td>\n",
       "      <td>Merton</td>\n",
       "      <td>Violence Against the Person</td>\n",
       "      <td>Wounding/GBH</td>\n",
       "      <td>0</td>\n",
       "      <td>2015</td>\n",
       "      <td>6</td>\n",
       "    </tr>\n",
       "  </tbody>\n",
       "</table>\n",
       "<p>13490604 rows × 7 columns</p>\n",
       "</div>"
      ],
      "text/plain": [
       "          lsoa_code     borough               major_category  \\\n",
       "0         E01001116     Croydon                     Burglary   \n",
       "1         E01001646   Greenwich  Violence Against the Person   \n",
       "2         E01000677     Bromley  Violence Against the Person   \n",
       "3         E01003774   Redbridge                     Burglary   \n",
       "4         E01004563  Wandsworth                      Robbery   \n",
       "...             ...         ...                          ...   \n",
       "13490599  E01000504       Brent              Criminal Damage   \n",
       "13490600  E01002504  Hillingdon                      Robbery   \n",
       "13490601  E01004165      Sutton                     Burglary   \n",
       "13490602  E01001134     Croydon                      Robbery   \n",
       "13490603  E01003413      Merton  Violence Against the Person   \n",
       "\n",
       "                       minor_category  value  year  month  \n",
       "0         Burglary in Other Buildings      0  2016     11  \n",
       "1                      Other violence      0  2016     11  \n",
       "2                      Other violence      0  2015      5  \n",
       "3         Burglary in Other Buildings      0  2016      3  \n",
       "4                   Personal Property      0  2008      6  \n",
       "...                               ...    ...   ...    ...  \n",
       "13490599  Criminal Damage To Dwelling      0  2015      2  \n",
       "13490600            Personal Property      1  2015      6  \n",
       "13490601       Burglary in a Dwelling      0  2011      2  \n",
       "13490602            Business Property      0  2011      5  \n",
       "13490603                 Wounding/GBH      0  2015      6  \n",
       "\n",
       "[13490604 rows x 7 columns]"
      ]
     },
     "execution_count": 16,
     "metadata": {},
     "output_type": "execute_result"
    }
   ],
   "source": [
    "london_crime"
   ]
  },
  {
   "cell_type": "code",
   "execution_count": 20,
   "id": "4d1b924f",
   "metadata": {},
   "outputs": [
    {
     "data": {
      "text/html": [
       "<div>\n",
       "<style scoped>\n",
       "    .dataframe tbody tr th:only-of-type {\n",
       "        vertical-align: middle;\n",
       "    }\n",
       "\n",
       "    .dataframe tbody tr th {\n",
       "        vertical-align: top;\n",
       "    }\n",
       "\n",
       "    .dataframe thead th {\n",
       "        text-align: right;\n",
       "    }\n",
       "</style>\n",
       "<table border=\"1\" class=\"dataframe\">\n",
       "  <thead>\n",
       "    <tr style=\"text-align: right;\">\n",
       "      <th></th>\n",
       "      <th>month</th>\n",
       "      <th>value</th>\n",
       "    </tr>\n",
       "  </thead>\n",
       "  <tbody>\n",
       "    <tr>\n",
       "      <th>0</th>\n",
       "      <td>1</td>\n",
       "      <td>65419</td>\n",
       "    </tr>\n",
       "    <tr>\n",
       "      <th>1</th>\n",
       "      <td>2</td>\n",
       "      <td>62626</td>\n",
       "    </tr>\n",
       "    <tr>\n",
       "      <th>2</th>\n",
       "      <td>3</td>\n",
       "      <td>61343</td>\n",
       "    </tr>\n",
       "    <tr>\n",
       "      <th>3</th>\n",
       "      <td>4</td>\n",
       "      <td>59640</td>\n",
       "    </tr>\n",
       "    <tr>\n",
       "      <th>4</th>\n",
       "      <td>5</td>\n",
       "      <td>62587</td>\n",
       "    </tr>\n",
       "    <tr>\n",
       "      <th>5</th>\n",
       "      <td>6</td>\n",
       "      <td>62290</td>\n",
       "    </tr>\n",
       "    <tr>\n",
       "      <th>6</th>\n",
       "      <td>7</td>\n",
       "      <td>64126</td>\n",
       "    </tr>\n",
       "    <tr>\n",
       "      <th>7</th>\n",
       "      <td>8</td>\n",
       "      <td>59959</td>\n",
       "    </tr>\n",
       "    <tr>\n",
       "      <th>8</th>\n",
       "      <td>9</td>\n",
       "      <td>58414</td>\n",
       "    </tr>\n",
       "    <tr>\n",
       "      <th>9</th>\n",
       "      <td>10</td>\n",
       "      <td>63354</td>\n",
       "    </tr>\n",
       "    <tr>\n",
       "      <th>10</th>\n",
       "      <td>11</td>\n",
       "      <td>61395</td>\n",
       "    </tr>\n",
       "    <tr>\n",
       "      <th>11</th>\n",
       "      <td>12</td>\n",
       "      <td>57488</td>\n",
       "    </tr>\n",
       "  </tbody>\n",
       "</table>\n",
       "</div>"
      ],
      "text/plain": [
       "    month  value\n",
       "0       1  65419\n",
       "1       2  62626\n",
       "2       3  61343\n",
       "3       4  59640\n",
       "4       5  62587\n",
       "5       6  62290\n",
       "6       7  64126\n",
       "7       8  59959\n",
       "8       9  58414\n",
       "9      10  63354\n",
       "10     11  61395\n",
       "11     12  57488"
      ]
     },
     "execution_count": 20,
     "metadata": {},
     "output_type": "execute_result"
    }
   ],
   "source": [
    "month_crime2008 = london_crime.drop([\"lsoa_code\",\"borough\",\"major_category\",\"minor_category\"], axis=1).set_index(\"year\")\n",
    "month_crime2008 = month_crime2008.loc[2008]\n",
    "month_crime2008 = month_crime2008.reset_index().drop(\"year\", axis=1)\n",
    "month_crime2008 = month_crime2008.groupby(\"month\").sum()\n",
    "month_crime2008 = month_crime2008.reset_index()\n",
    "month_crime2008"
   ]
  },
  {
   "cell_type": "code",
   "execution_count": 23,
   "id": "8a87f19f",
   "metadata": {},
   "outputs": [
    {
     "data": {
      "image/png": "[encoded data removed]",
      "text/plain": [
       "<Figure size 720x504 with 1 Axes>"
      ]
     },
     "metadata": {
      "needs_background": "light"
     },
     "output_type": "display_data"
    }
   ],
   "source": [
    "months = np.arange(len(month_crime[\"month\"])+1)\n",
    "name_of_months=['0','Jan','Feb','Mar','Apr','May','Jun','Jul','Aug','Sep','Oct','Nov','Dec']\n",
    "\n",
    "month_crime2008.plot(kind=\"scatter\", x=\"month\",y=\"value\",figsize=(10,7), color=\"red\")\n",
    "plt.title(\"Number of Crime from Each Month in 2008\", fontsize=20)\n",
    "plt.xlabel(\"Month\", fontsize=15)\n",
    "plt.ylabel(\"Crime Number\", fontsize=15)\n",
    "plt.xticks(months, name_of_months)\n",
    "plt.grid(color=\"grey\", linewidth=0.5)\n",
    "plt.show()"
   ]
  },
  {
   "cell_type": "markdown",
   "id": "355f8f1e",
   "metadata": {},
   "source": [
    "Pada tahun 2008, jumlah kasus kejahatan/kriminal mencapai angka tertinggi di bulan Januari dan mencapai angka terendah di bulan Desember. Dengan scatterplot, kita bisa membandingkan jumlah kasus kejahatan/kriminal setiap bulannya di tahun-tahun tertentu."
   ]
  },
  {
   "cell_type": "markdown",
   "id": "792ce153",
   "metadata": {},
   "source": [
    "### Selain dari informasi yang sudah dilampirkan sebelumnya, dengan menggunakanScatterplot juga dapat memperoleh informasi tertentu yang lebih spesifik lagi, seperti:\n",
    "1. Tren bulanan kategori kasus kejahatan/kriminal tertentu di wilayah tertentu (misal tren bulanan Theft and Handling di City of London),\n",
    "2. Tren bulanan kategori kasus kejahatan/kriminal tertentu di wilayah tertentu pada waktu/rentang waktu tertentu (misal tren bulanan Other Notifiable Offences di Croydon pada tahun 2012-2016), dst."
   ]
  },
  {
   "cell_type": "markdown",
   "id": "164fc099",
   "metadata": {},
   "source": [
    "# Conclusions"
   ]
  },
  {
   "cell_type": "markdown",
   "id": "998218af",
   "metadata": {},
   "source": [
    "Dengan menggunakan Scatterplot kita dapat menyimpulkan beberapa informasi dari kumpulan data London Crime, 2008-2016, yaitu:\n",
    "\n",
    "Berdasarkan jumlah setiap bulannya selama tahun 2008-2016, bulan Juli adalah bulan yang memiliki jumlah kasus kejahatan/kriminal tertinggi dan bulan Februari memiliki jumlah kasus terendah. Sedangkan di 2008, bulan Januari adalah bulan yang memiliki jumlah kasus kejahatan/kriminal tertinggi dan bulan Desember memiliki jumlah kasus terendah. Jika divisualisasikan lebih lanjut, diduga terdapat perbedaan tren bulanan setiap tahunnya."
   ]
  }
 ],
 "metadata": {
  "kernelspec": {
   "display_name": "Python 3",
   "language": "python",
   "name": "python3"
  },
  "language_info": {
   "codemirror_mode": {
    "name": "ipython",
    "version": 3
   },
   "file_extension": ".py",
   "mimetype": "text/x-python",
   "name": "python",
   "nbconvert_exporter": "python",
   "pygments_lexer": "ipython3",
   "version": "3.8.8"
  },
  "toc": {
   "base_numbering": 1,
   "nav_menu": {},
   "number_sections": false,
   "sideBar": true,
   "skip_h1_title": false,
   "title_cell": "Table of Contents",
   "title_sidebar": "Contents",
   "toc_cell": false,
   "toc_position": {},
   "toc_section_display": true,
   "toc_window_display": true
  },
  "varInspector": {
   "cols": {
    "lenName": 16,
    "lenType": 16,
    "lenVar": 40
   },
   "kernels_config": {
    "python": {
     "delete_cmd_postfix": "",
     "delete_cmd_prefix": "del ",
     "library": "var_list.py",
     "varRefreshCmd": "print(var_dic_list())"
    },
    "r": {
     "delete_cmd_postfix": ") ",
     "delete_cmd_prefix": "rm(",
     "library": "var_list.r",
     "varRefreshCmd": "cat(var_dic_list()) "
    }
   },
   "types_to_exclude": [
    "module",
    "function",
    "builtin_function_or_method",
    "instance",
    "_Feature"
   ],
   "window_display": false
  }
 },
 "nbformat": 4,
 "nbformat_minor": 5
}
