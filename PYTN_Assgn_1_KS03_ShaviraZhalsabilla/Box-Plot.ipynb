{
 "cells": [
  {
   "cell_type": "markdown",
   "id": "de35cace",
   "metadata": {},
   "source": [
    "# Box Plot\n",
    "---\n",
    "Box plot adalah salah satu grafik yang merepresentasikan distribusi data secara statistik melalui lima dimensi utama, yaitu:\n",
    "- Minimum : nilai terkecil dari data\n",
    "- Kuartil-1 : nilai tengah antara nilai minimum dan median\n",
    "- Median / Kuartil 2 : nilai tengah dari data\n",
    "- Kuartil-3 : nilai tengah antara nilai median dan maksimum\n",
    "- Maksimum : nilai tertinggi dari data"
   ]
  },
  {
   "cell_type": "markdown",
   "id": "d854715a",
   "metadata": {},
   "source": [
    "## Load Data"
   ]
  },
  {
   "cell_type": "code",
   "execution_count": 1,
   "id": "32962123",
   "metadata": {},
   "outputs": [],
   "source": [
    "import pandas as pd\n",
    "import numpy as np\n",
    "import matplotlib.pyplot as plt"
   ]
  },
  {
   "cell_type": "code",
   "execution_count": 2,
   "id": "c563dcc1",
   "metadata": {},
   "outputs": [],
   "source": [
    "london_crime = pd.read_csv(\"london_crime_by_lsoa.csv\")"
   ]
  },
  {
   "cell_type": "markdown",
   "id": "08f26dc9",
   "metadata": {},
   "source": [
    "### Dengan menggunakan Box Plot, kita dapat memperoleh informasi sebagai berikut:"
   ]
  },
  {
   "cell_type": "markdown",
   "id": "687760f0",
   "metadata": {},
   "source": [
    "---\n",
    "#### Question: Bagaimana distribusi statistik dari data jumlah kasus kejahatan/kriminal di London tahun 2008-2016?"
   ]
  },
  {
   "cell_type": "code",
   "execution_count": 9,
   "id": "9e4d9c68",
   "metadata": {},
   "outputs": [
    {
     "data": {
      "text/html": [
       "<div>\n",
       "<style scoped>\n",
       "    .dataframe tbody tr th:only-of-type {\n",
       "        vertical-align: middle;\n",
       "    }\n",
       "\n",
       "    .dataframe tbody tr th {\n",
       "        vertical-align: top;\n",
       "    }\n",
       "\n",
       "    .dataframe thead th {\n",
       "        text-align: right;\n",
       "    }\n",
       "</style>\n",
       "<table border=\"1\" class=\"dataframe\">\n",
       "  <thead>\n",
       "    <tr style=\"text-align: right;\">\n",
       "      <th></th>\n",
       "      <th>value</th>\n",
       "    </tr>\n",
       "    <tr>\n",
       "      <th>year</th>\n",
       "      <th></th>\n",
       "    </tr>\n",
       "  </thead>\n",
       "  <tbody>\n",
       "    <tr>\n",
       "      <th>2008</th>\n",
       "      <td>738641</td>\n",
       "    </tr>\n",
       "    <tr>\n",
       "      <th>2009</th>\n",
       "      <td>717214</td>\n",
       "    </tr>\n",
       "    <tr>\n",
       "      <th>2010</th>\n",
       "      <td>715324</td>\n",
       "    </tr>\n",
       "    <tr>\n",
       "      <th>2011</th>\n",
       "      <td>724915</td>\n",
       "    </tr>\n",
       "    <tr>\n",
       "      <th>2012</th>\n",
       "      <td>737329</td>\n",
       "    </tr>\n",
       "    <tr>\n",
       "      <th>2013</th>\n",
       "      <td>686407</td>\n",
       "    </tr>\n",
       "    <tr>\n",
       "      <th>2014</th>\n",
       "      <td>680183</td>\n",
       "    </tr>\n",
       "    <tr>\n",
       "      <th>2015</th>\n",
       "      <td>711624</td>\n",
       "    </tr>\n",
       "    <tr>\n",
       "      <th>2016</th>\n",
       "      <td>736121</td>\n",
       "    </tr>\n",
       "  </tbody>\n",
       "</table>\n",
       "</div>"
      ],
      "text/plain": [
       "       value\n",
       "year        \n",
       "2008  738641\n",
       "2009  717214\n",
       "2010  715324\n",
       "2011  724915\n",
       "2012  737329\n",
       "2013  686407\n",
       "2014  680183\n",
       "2015  711624\n",
       "2016  736121"
      ]
     },
     "execution_count": 9,
     "metadata": {},
     "output_type": "execute_result"
    }
   ],
   "source": [
    "total_crime = london_crime.drop([\"lsoa_code\",\"borough\",\"major_category\",\"minor_category\",\"month\"], axis=1)\n",
    "total_crime = total_crime.groupby(\"year\").sum()\n",
    "total_crime"
   ]
  },
  {
   "cell_type": "markdown",
   "id": "3437b99c",
   "metadata": {},
   "source": [
    "Berikut adalah tabel jumlah kasus kejahatan/kriminal di London dari tahun 2008-2016."
   ]
  },
  {
   "cell_type": "code",
   "execution_count": 10,
   "id": "2f49b8eb",
   "metadata": {},
   "outputs": [
    {
     "data": {
      "text/html": [
       "<div>\n",
       "<style scoped>\n",
       "    .dataframe tbody tr th:only-of-type {\n",
       "        vertical-align: middle;\n",
       "    }\n",
       "\n",
       "    .dataframe tbody tr th {\n",
       "        vertical-align: top;\n",
       "    }\n",
       "\n",
       "    .dataframe thead th {\n",
       "        text-align: right;\n",
       "    }\n",
       "</style>\n",
       "<table border=\"1\" class=\"dataframe\">\n",
       "  <thead>\n",
       "    <tr style=\"text-align: right;\">\n",
       "      <th></th>\n",
       "      <th>value</th>\n",
       "    </tr>\n",
       "  </thead>\n",
       "  <tbody>\n",
       "    <tr>\n",
       "      <th>count</th>\n",
       "      <td>9.000000</td>\n",
       "    </tr>\n",
       "    <tr>\n",
       "      <th>mean</th>\n",
       "      <td>716417.555556</td>\n",
       "    </tr>\n",
       "    <tr>\n",
       "      <th>std</th>\n",
       "      <td>21301.370555</td>\n",
       "    </tr>\n",
       "    <tr>\n",
       "      <th>min</th>\n",
       "      <td>680183.000000</td>\n",
       "    </tr>\n",
       "    <tr>\n",
       "      <th>25%</th>\n",
       "      <td>711624.000000</td>\n",
       "    </tr>\n",
       "    <tr>\n",
       "      <th>50%</th>\n",
       "      <td>717214.000000</td>\n",
       "    </tr>\n",
       "    <tr>\n",
       "      <th>75%</th>\n",
       "      <td>736121.000000</td>\n",
       "    </tr>\n",
       "    <tr>\n",
       "      <th>max</th>\n",
       "      <td>738641.000000</td>\n",
       "    </tr>\n",
       "  </tbody>\n",
       "</table>\n",
       "</div>"
      ],
      "text/plain": [
       "               value\n",
       "count       9.000000\n",
       "mean   716417.555556\n",
       "std     21301.370555\n",
       "min    680183.000000\n",
       "25%    711624.000000\n",
       "50%    717214.000000\n",
       "75%    736121.000000\n",
       "max    738641.000000"
      ]
     },
     "execution_count": 10,
     "metadata": {},
     "output_type": "execute_result"
    }
   ],
   "source": [
    "total_crime.describe()"
   ]
  },
  {
   "cell_type": "markdown",
   "id": "acdcc2dd",
   "metadata": {},
   "source": [
    "Berikut adalah nilai statistik dari data jumlah kasus kejahatan/kriminal di London tahun 2008-2016."
   ]
  },
  {
   "cell_type": "code",
   "execution_count": 6,
   "id": "e4520dd1",
   "metadata": {},
   "outputs": [
    {
     "data": {
      "image/png": "[encoded data removed]",
      "text/plain": [
       "<Figure size 720x360 with 1 Axes>"
      ]
     },
     "metadata": {
      "needs_background": "light"
     },
     "output_type": "display_data"
    }
   ],
   "source": [
    "total_crime.plot(kind=\"box\",\n",
    "                figsize=(10,5))\n",
    "plt.title(\"Box Plot of Crime Number from 2008-2016\", fontsize=20)\n",
    "plt.show()"
   ]
  },
  {
   "cell_type": "markdown",
   "id": "3e2f549f",
   "metadata": {},
   "source": [
    "Berdasarkan plot di atas, diketahui bahwa nilai distribusi data jumlah kasus kejahatan/kriminal di London tidak terdapat _outlier_ atau nilai yang lebih jauh lebih besar/kecil dari data yang lain. Jumlah kasus kejahatan/kriminal di London tertinggi adalah sekitar 740000, terendah sebesar 680000, dan nilai tengah di sekitar 715000."
   ]
  },
  {
   "cell_type": "markdown",
   "id": "fa52c816",
   "metadata": {},
   "source": [
    "---\n",
    "#### Question: Bagaimana distribusi statistik dari data jumlah kasus kejahatan/kriminal di masing-masing wilayah metropolitan tahun 2008-2016?"
   ]
  },
  {
   "cell_type": "code",
   "execution_count": 7,
   "id": "1fb32a72",
   "metadata": {},
   "outputs": [
    {
     "data": {
      "text/html": [
       "<div>\n",
       "<style scoped>\n",
       "    .dataframe tbody tr th:only-of-type {\n",
       "        vertical-align: middle;\n",
       "    }\n",
       "\n",
       "    .dataframe tbody tr th {\n",
       "        vertical-align: top;\n",
       "    }\n",
       "\n",
       "    .dataframe thead th {\n",
       "        text-align: right;\n",
       "    }\n",
       "</style>\n",
       "<table border=\"1\" class=\"dataframe\">\n",
       "  <thead>\n",
       "    <tr style=\"text-align: right;\">\n",
       "      <th></th>\n",
       "      <th>value</th>\n",
       "    </tr>\n",
       "    <tr>\n",
       "      <th>borough</th>\n",
       "      <th></th>\n",
       "    </tr>\n",
       "  </thead>\n",
       "  <tbody>\n",
       "    <tr>\n",
       "      <th>Barking and Dagenham</th>\n",
       "      <td>149447</td>\n",
       "    </tr>\n",
       "    <tr>\n",
       "      <th>Barnet</th>\n",
       "      <td>212191</td>\n",
       "    </tr>\n",
       "    <tr>\n",
       "      <th>Bexley</th>\n",
       "      <td>114136</td>\n",
       "    </tr>\n",
       "    <tr>\n",
       "      <th>Brent</th>\n",
       "      <td>227551</td>\n",
       "    </tr>\n",
       "    <tr>\n",
       "      <th>Bromley</th>\n",
       "      <td>184349</td>\n",
       "    </tr>\n",
       "    <tr>\n",
       "      <th>Camden</th>\n",
       "      <td>275147</td>\n",
       "    </tr>\n",
       "    <tr>\n",
       "      <th>City of London</th>\n",
       "      <td>780</td>\n",
       "    </tr>\n",
       "    <tr>\n",
       "      <th>Croydon</th>\n",
       "      <td>260294</td>\n",
       "    </tr>\n",
       "    <tr>\n",
       "      <th>Ealing</th>\n",
       "      <td>251562</td>\n",
       "    </tr>\n",
       "    <tr>\n",
       "      <th>Enfield</th>\n",
       "      <td>193880</td>\n",
       "    </tr>\n",
       "    <tr>\n",
       "      <th>Greenwich</th>\n",
       "      <td>181568</td>\n",
       "    </tr>\n",
       "    <tr>\n",
       "      <th>Hackney</th>\n",
       "      <td>217119</td>\n",
       "    </tr>\n",
       "    <tr>\n",
       "      <th>Hammersmith and Fulham</th>\n",
       "      <td>185259</td>\n",
       "    </tr>\n",
       "    <tr>\n",
       "      <th>Haringey</th>\n",
       "      <td>213272</td>\n",
       "    </tr>\n",
       "    <tr>\n",
       "      <th>Harrow</th>\n",
       "      <td>116848</td>\n",
       "    </tr>\n",
       "    <tr>\n",
       "      <th>Havering</th>\n",
       "      <td>138947</td>\n",
       "    </tr>\n",
       "    <tr>\n",
       "      <th>Hillingdon</th>\n",
       "      <td>209680</td>\n",
       "    </tr>\n",
       "    <tr>\n",
       "      <th>Hounslow</th>\n",
       "      <td>186772</td>\n",
       "    </tr>\n",
       "    <tr>\n",
       "      <th>Islington</th>\n",
       "      <td>230286</td>\n",
       "    </tr>\n",
       "    <tr>\n",
       "      <th>Kensington and Chelsea</th>\n",
       "      <td>171981</td>\n",
       "    </tr>\n",
       "    <tr>\n",
       "      <th>Kingston upon Thames</th>\n",
       "      <td>89306</td>\n",
       "    </tr>\n",
       "    <tr>\n",
       "      <th>Lambeth</th>\n",
       "      <td>292178</td>\n",
       "    </tr>\n",
       "    <tr>\n",
       "      <th>Lewisham</th>\n",
       "      <td>215137</td>\n",
       "    </tr>\n",
       "    <tr>\n",
       "      <th>Merton</th>\n",
       "      <td>115654</td>\n",
       "    </tr>\n",
       "    <tr>\n",
       "      <th>Newham</th>\n",
       "      <td>262024</td>\n",
       "    </tr>\n",
       "    <tr>\n",
       "      <th>Redbridge</th>\n",
       "      <td>183562</td>\n",
       "    </tr>\n",
       "    <tr>\n",
       "      <th>Richmond upon Thames</th>\n",
       "      <td>96771</td>\n",
       "    </tr>\n",
       "    <tr>\n",
       "      <th>Southwark</th>\n",
       "      <td>278809</td>\n",
       "    </tr>\n",
       "    <tr>\n",
       "      <th>Sutton</th>\n",
       "      <td>100987</td>\n",
       "    </tr>\n",
       "    <tr>\n",
       "      <th>Tower Hamlets</th>\n",
       "      <td>228613</td>\n",
       "    </tr>\n",
       "    <tr>\n",
       "      <th>Waltham Forest</th>\n",
       "      <td>203879</td>\n",
       "    </tr>\n",
       "    <tr>\n",
       "      <th>Wandsworth</th>\n",
       "      <td>204741</td>\n",
       "    </tr>\n",
       "    <tr>\n",
       "      <th>Westminster</th>\n",
       "      <td>455028</td>\n",
       "    </tr>\n",
       "  </tbody>\n",
       "</table>\n",
       "</div>"
      ],
      "text/plain": [
       "                         value\n",
       "borough                       \n",
       "Barking and Dagenham    149447\n",
       "Barnet                  212191\n",
       "Bexley                  114136\n",
       "Brent                   227551\n",
       "Bromley                 184349\n",
       "Camden                  275147\n",
       "City of London             780\n",
       "Croydon                 260294\n",
       "Ealing                  251562\n",
       "Enfield                 193880\n",
       "Greenwich               181568\n",
       "Hackney                 217119\n",
       "Hammersmith and Fulham  185259\n",
       "Haringey                213272\n",
       "Harrow                  116848\n",
       "Havering                138947\n",
       "Hillingdon              209680\n",
       "Hounslow                186772\n",
       "Islington               230286\n",
       "Kensington and Chelsea  171981\n",
       "Kingston upon Thames     89306\n",
       "Lambeth                 292178\n",
       "Lewisham                215137\n",
       "Merton                  115654\n",
       "Newham                  262024\n",
       "Redbridge               183562\n",
       "Richmond upon Thames     96771\n",
       "Southwark               278809\n",
       "Sutton                  100987\n",
       "Tower Hamlets           228613\n",
       "Waltham Forest          203879\n",
       "Wandsworth              204741\n",
       "Westminster             455028"
      ]
     },
     "execution_count": 7,
     "metadata": {},
     "output_type": "execute_result"
    }
   ],
   "source": [
    "crime_frequency = london_crime.drop([\"lsoa_code\",\"major_category\",\"minor_category\",\"month\",\"year\"], axis=1)\n",
    "crime_frequency = crime_frequency.groupby(\"borough\").sum()\n",
    "crime_frequency"
   ]
  },
  {
   "cell_type": "markdown",
   "id": "dc1b40dd",
   "metadata": {},
   "source": [
    "Berikut adalah tabel jumlah kasus kejahatan/kriminal di masing-masing wilayah metropolitan di London tahun 2008-2016."
   ]
  },
  {
   "cell_type": "code",
   "execution_count": 8,
   "id": "c55e1ac2",
   "metadata": {},
   "outputs": [
    {
     "data": {
      "text/html": [
       "<div>\n",
       "<style scoped>\n",
       "    .dataframe tbody tr th:only-of-type {\n",
       "        vertical-align: middle;\n",
       "    }\n",
       "\n",
       "    .dataframe tbody tr th {\n",
       "        vertical-align: top;\n",
       "    }\n",
       "\n",
       "    .dataframe thead th {\n",
       "        text-align: right;\n",
       "    }\n",
       "</style>\n",
       "<table border=\"1\" class=\"dataframe\">\n",
       "  <thead>\n",
       "    <tr style=\"text-align: right;\">\n",
       "      <th></th>\n",
       "      <th>value</th>\n",
       "    </tr>\n",
       "  </thead>\n",
       "  <tbody>\n",
       "    <tr>\n",
       "      <th>count</th>\n",
       "      <td>33.000000</td>\n",
       "    </tr>\n",
       "    <tr>\n",
       "      <th>mean</th>\n",
       "      <td>195386.606061</td>\n",
       "    </tr>\n",
       "    <tr>\n",
       "      <th>std</th>\n",
       "      <td>79148.057551</td>\n",
       "    </tr>\n",
       "    <tr>\n",
       "      <th>min</th>\n",
       "      <td>780.000000</td>\n",
       "    </tr>\n",
       "    <tr>\n",
       "      <th>25%</th>\n",
       "      <td>149447.000000</td>\n",
       "    </tr>\n",
       "    <tr>\n",
       "      <th>50%</th>\n",
       "      <td>203879.000000</td>\n",
       "    </tr>\n",
       "    <tr>\n",
       "      <th>75%</th>\n",
       "      <td>228613.000000</td>\n",
       "    </tr>\n",
       "    <tr>\n",
       "      <th>max</th>\n",
       "      <td>455028.000000</td>\n",
       "    </tr>\n",
       "  </tbody>\n",
       "</table>\n",
       "</div>"
      ],
      "text/plain": [
       "               value\n",
       "count      33.000000\n",
       "mean   195386.606061\n",
       "std     79148.057551\n",
       "min       780.000000\n",
       "25%    149447.000000\n",
       "50%    203879.000000\n",
       "75%    228613.000000\n",
       "max    455028.000000"
      ]
     },
     "execution_count": 8,
     "metadata": {},
     "output_type": "execute_result"
    }
   ],
   "source": [
    "crime_frequency.describe()"
   ]
  },
  {
   "cell_type": "code",
   "execution_count": 11,
   "id": "fe894f0c",
   "metadata": {},
   "outputs": [
    {
     "data": {
      "image/png": "[encoded data removed]",
      "text/plain": [
       "<Figure size 720x360 with 1 Axes>"
      ]
     },
     "metadata": {
      "needs_background": "light"
     },
     "output_type": "display_data"
    }
   ],
   "source": [
    "crime_frequency.plot(kind=\"box\",\n",
    "                figsize=(10,5))\n",
    "plt.title(\"Box Plot of Crime Number from All Borough [2008-2016]\", fontsize=20)\n",
    "plt.show()"
   ]
  },
  {
   "cell_type": "markdown",
   "id": "0d1cee52",
   "metadata": {},
   "source": [
    "Diketahui berdasarkan box plot di atas bahwa distribusi nilai statistik dari data jumlah kriminal/kejahatan di London terdapat dua titik _outlier_ yang berarti terdapat dua wilayah yang jauh lebih besar/kecil dari data yang lain. Berdasarkan kesimpulan dari visualisasi lainnya, diketahui Westminster adalah wilayah yang jumlah kasus kejahatan/kriminalnya jauh lebih tinggi dan City of London adalah wilayah yang jumlah kasus kejahatan/kriminalnya jauh lebih rendah. Jumlah kasus kejahatan di semua wilayah di London memiliki nilai minimum di sekitar 100000 dan maksimum di sekitar 300000."
   ]
  },
  {
   "cell_type": "markdown",
   "id": "3de82193",
   "metadata": {},
   "source": [
    "---\n",
    "#### Question: Bagaimana distribusi statistik dari data jumlah kasus kejahatan/kriminal berdasarkan kategorinya pada tahun 2008-2016?"
   ]
  },
  {
   "cell_type": "code",
   "execution_count": 12,
   "id": "685b235f",
   "metadata": {},
   "outputs": [
    {
     "data": {
      "text/html": [
       "<div>\n",
       "<style scoped>\n",
       "    .dataframe tbody tr th:only-of-type {\n",
       "        vertical-align: middle;\n",
       "    }\n",
       "\n",
       "    .dataframe tbody tr th {\n",
       "        vertical-align: top;\n",
       "    }\n",
       "\n",
       "    .dataframe thead th {\n",
       "        text-align: right;\n",
       "    }\n",
       "</style>\n",
       "<table border=\"1\" class=\"dataframe\">\n",
       "  <thead>\n",
       "    <tr style=\"text-align: right;\">\n",
       "      <th></th>\n",
       "      <th>value</th>\n",
       "    </tr>\n",
       "    <tr>\n",
       "      <th>major_category</th>\n",
       "      <th></th>\n",
       "    </tr>\n",
       "  </thead>\n",
       "  <tbody>\n",
       "    <tr>\n",
       "      <th>Burglary</th>\n",
       "      <td>754293</td>\n",
       "    </tr>\n",
       "    <tr>\n",
       "      <th>Criminal Damage</th>\n",
       "      <td>630938</td>\n",
       "    </tr>\n",
       "    <tr>\n",
       "      <th>Drugs</th>\n",
       "      <td>470765</td>\n",
       "    </tr>\n",
       "    <tr>\n",
       "      <th>Fraud or Forgery</th>\n",
       "      <td>5325</td>\n",
       "    </tr>\n",
       "    <tr>\n",
       "      <th>Other Notifiable Offences</th>\n",
       "      <td>106349</td>\n",
       "    </tr>\n",
       "    <tr>\n",
       "      <th>Robbery</th>\n",
       "      <td>258873</td>\n",
       "    </tr>\n",
       "    <tr>\n",
       "      <th>Sexual Offences</th>\n",
       "      <td>1273</td>\n",
       "    </tr>\n",
       "    <tr>\n",
       "      <th>Theft and Handling</th>\n",
       "      <td>2661861</td>\n",
       "    </tr>\n",
       "    <tr>\n",
       "      <th>Violence Against the Person</th>\n",
       "      <td>1558081</td>\n",
       "    </tr>\n",
       "  </tbody>\n",
       "</table>\n",
       "</div>"
      ],
      "text/plain": [
       "                               value\n",
       "major_category                      \n",
       "Burglary                      754293\n",
       "Criminal Damage               630938\n",
       "Drugs                         470765\n",
       "Fraud or Forgery                5325\n",
       "Other Notifiable Offences     106349\n",
       "Robbery                       258873\n",
       "Sexual Offences                 1273\n",
       "Theft and Handling           2661861\n",
       "Violence Against the Person  1558081"
      ]
     },
     "execution_count": 12,
     "metadata": {},
     "output_type": "execute_result"
    }
   ],
   "source": [
    "totalCrimeEachType = london_crime.drop([\"lsoa_code\",\"borough\",\"minor_category\",\"year\",\"month\"], axis=1).groupby(\"major_category\").sum()\n",
    "totalCrimeEachType[\"value\"].to_numpy()\n",
    "totalCrimeEachType"
   ]
  },
  {
   "cell_type": "markdown",
   "id": "d5e69f78",
   "metadata": {},
   "source": [
    "Berikut adalah tabel jumlah kasus kejahatan/kriminal berdasarkan kategori mayornya tahun 2008-2016."
   ]
  },
  {
   "cell_type": "code",
   "execution_count": 13,
   "id": "5e3e5635",
   "metadata": {},
   "outputs": [
    {
     "data": {
      "text/html": [
       "<div>\n",
       "<style scoped>\n",
       "    .dataframe tbody tr th:only-of-type {\n",
       "        vertical-align: middle;\n",
       "    }\n",
       "\n",
       "    .dataframe tbody tr th {\n",
       "        vertical-align: top;\n",
       "    }\n",
       "\n",
       "    .dataframe thead th {\n",
       "        text-align: right;\n",
       "    }\n",
       "</style>\n",
       "<table border=\"1\" class=\"dataframe\">\n",
       "  <thead>\n",
       "    <tr style=\"text-align: right;\">\n",
       "      <th></th>\n",
       "      <th>value</th>\n",
       "    </tr>\n",
       "  </thead>\n",
       "  <tbody>\n",
       "    <tr>\n",
       "      <th>count</th>\n",
       "      <td>9.000000e+00</td>\n",
       "    </tr>\n",
       "    <tr>\n",
       "      <th>mean</th>\n",
       "      <td>7.164176e+05</td>\n",
       "    </tr>\n",
       "    <tr>\n",
       "      <th>std</th>\n",
       "      <td>8.775569e+05</td>\n",
       "    </tr>\n",
       "    <tr>\n",
       "      <th>min</th>\n",
       "      <td>1.273000e+03</td>\n",
       "    </tr>\n",
       "    <tr>\n",
       "      <th>25%</th>\n",
       "      <td>1.063490e+05</td>\n",
       "    </tr>\n",
       "    <tr>\n",
       "      <th>50%</th>\n",
       "      <td>4.707650e+05</td>\n",
       "    </tr>\n",
       "    <tr>\n",
       "      <th>75%</th>\n",
       "      <td>7.542930e+05</td>\n",
       "    </tr>\n",
       "    <tr>\n",
       "      <th>max</th>\n",
       "      <td>2.661861e+06</td>\n",
       "    </tr>\n",
       "  </tbody>\n",
       "</table>\n",
       "</div>"
      ],
      "text/plain": [
       "              value\n",
       "count  9.000000e+00\n",
       "mean   7.164176e+05\n",
       "std    8.775569e+05\n",
       "min    1.273000e+03\n",
       "25%    1.063490e+05\n",
       "50%    4.707650e+05\n",
       "75%    7.542930e+05\n",
       "max    2.661861e+06"
      ]
     },
     "execution_count": 13,
     "metadata": {},
     "output_type": "execute_result"
    }
   ],
   "source": [
    "totalCrimeEachType.describe()"
   ]
  },
  {
   "cell_type": "markdown",
   "id": "784c9232",
   "metadata": {},
   "source": [
    "Berikut adalah nilai statistik dari jumlah kasus kejahatan/kriminal berdasarkan kategori mayornya."
   ]
  },
  {
   "cell_type": "code",
   "execution_count": 16,
   "id": "747f9ddb",
   "metadata": {},
   "outputs": [
    {
     "data": {
      "image/png": "[encoded data removed]",
      "text/plain": [
       "<Figure size 720x360 with 1 Axes>"
      ]
     },
     "metadata": {
      "needs_background": "light"
     },
     "output_type": "display_data"
    }
   ],
   "source": [
    "totalCrimeEachType.plot(kind=\"box\",\n",
    "                figsize=(10,5))\n",
    "plt.title(\"Box Plot of Crime Number from Major Category [2008-2016]\", fontsize=20)\n",
    "plt.show()"
   ]
  },
  {
   "cell_type": "markdown",
   "id": "16a8fc24",
   "metadata": {},
   "source": [
    "Berdasarkan box plot di atas, diketahui bahwa jumlah kasus kriminal/kejahatan berdasarkan kategori mayor memiliki satu nilai _outlier_ yang berarti terdapat kategori kejahatan/kriminal di mana jumlahnya jauh lebih besar dan dominan daripada kategori yang lain. Berdasarkan visualisasi sebelumnya, diketahui bahwa kategori Theft and Handling adalah kategori dengan jumlah kasus tertinggi. Data tersebar dengan nilai minimum sekitar 1000 dan maksimum di sekitar 1700000."
   ]
  },
  {
   "cell_type": "markdown",
   "id": "ca2325d8",
   "metadata": {},
   "source": [
    "---\n",
    "#### Question: Bagaimana distribusi statistik dari data jumlah kasus kejahatan/kriminal di London setiap 4 tahun sekali?"
   ]
  },
  {
   "cell_type": "markdown",
   "id": "19bd4991",
   "metadata": {},
   "source": [
    "Diketahui bahwa jumlah kasus kejahatan/kriminal di London selalu mengalami kenaikan setiap 4 tahun sekali. Menggunakan box plot, kita dapat melihat bagaimana distribusi data jumlah kasus kejahatan/kriminal setiap 4 tahun itu selama 2008-2016."
   ]
  },
  {
   "cell_type": "code",
   "execution_count": 17,
   "id": "28c39299",
   "metadata": {},
   "outputs": [
    {
     "data": {
      "text/html": [
       "<div>\n",
       "<style scoped>\n",
       "    .dataframe tbody tr th:only-of-type {\n",
       "        vertical-align: middle;\n",
       "    }\n",
       "\n",
       "    .dataframe tbody tr th {\n",
       "        vertical-align: top;\n",
       "    }\n",
       "\n",
       "    .dataframe thead th {\n",
       "        text-align: right;\n",
       "    }\n",
       "</style>\n",
       "<table border=\"1\" class=\"dataframe\">\n",
       "  <thead>\n",
       "    <tr style=\"text-align: right;\">\n",
       "      <th></th>\n",
       "      <th>value</th>\n",
       "    </tr>\n",
       "    <tr>\n",
       "      <th>year</th>\n",
       "      <th></th>\n",
       "    </tr>\n",
       "  </thead>\n",
       "  <tbody>\n",
       "    <tr>\n",
       "      <th>2008</th>\n",
       "      <td>738641</td>\n",
       "    </tr>\n",
       "    <tr>\n",
       "      <th>2009</th>\n",
       "      <td>717214</td>\n",
       "    </tr>\n",
       "    <tr>\n",
       "      <th>2010</th>\n",
       "      <td>715324</td>\n",
       "    </tr>\n",
       "    <tr>\n",
       "      <th>2011</th>\n",
       "      <td>724915</td>\n",
       "    </tr>\n",
       "    <tr>\n",
       "      <th>2012</th>\n",
       "      <td>737329</td>\n",
       "    </tr>\n",
       "    <tr>\n",
       "      <th>2013</th>\n",
       "      <td>686407</td>\n",
       "    </tr>\n",
       "    <tr>\n",
       "      <th>2014</th>\n",
       "      <td>680183</td>\n",
       "    </tr>\n",
       "    <tr>\n",
       "      <th>2015</th>\n",
       "      <td>711624</td>\n",
       "    </tr>\n",
       "    <tr>\n",
       "      <th>2016</th>\n",
       "      <td>736121</td>\n",
       "    </tr>\n",
       "  </tbody>\n",
       "</table>\n",
       "</div>"
      ],
      "text/plain": [
       "       value\n",
       "year        \n",
       "2008  738641\n",
       "2009  717214\n",
       "2010  715324\n",
       "2011  724915\n",
       "2012  737329\n",
       "2013  686407\n",
       "2014  680183\n",
       "2015  711624\n",
       "2016  736121"
      ]
     },
     "execution_count": 17,
     "metadata": {},
     "output_type": "execute_result"
    }
   ],
   "source": [
    "total_crime"
   ]
  },
  {
   "cell_type": "code",
   "execution_count": 20,
   "id": "99326d21",
   "metadata": {},
   "outputs": [],
   "source": [
    "year08_12 = total_crime.loc[2008:2012]\n",
    "year12_16 = total_crime.loc[2012:2016]"
   ]
  },
  {
   "cell_type": "code",
   "execution_count": 26,
   "id": "7675df1f",
   "metadata": {},
   "outputs": [
    {
     "data": {
      "text/html": [
       "<div>\n",
       "<style scoped>\n",
       "    .dataframe tbody tr th:only-of-type {\n",
       "        vertical-align: middle;\n",
       "    }\n",
       "\n",
       "    .dataframe tbody tr th {\n",
       "        vertical-align: top;\n",
       "    }\n",
       "\n",
       "    .dataframe thead th {\n",
       "        text-align: right;\n",
       "    }\n",
       "</style>\n",
       "<table border=\"1\" class=\"dataframe\">\n",
       "  <thead>\n",
       "    <tr style=\"text-align: right;\">\n",
       "      <th></th>\n",
       "      <th>value</th>\n",
       "    </tr>\n",
       "    <tr>\n",
       "      <th>year</th>\n",
       "      <th></th>\n",
       "    </tr>\n",
       "  </thead>\n",
       "  <tbody>\n",
       "    <tr>\n",
       "      <th>2008</th>\n",
       "      <td>738641</td>\n",
       "    </tr>\n",
       "    <tr>\n",
       "      <th>2009</th>\n",
       "      <td>717214</td>\n",
       "    </tr>\n",
       "    <tr>\n",
       "      <th>2010</th>\n",
       "      <td>715324</td>\n",
       "    </tr>\n",
       "    <tr>\n",
       "      <th>2011</th>\n",
       "      <td>724915</td>\n",
       "    </tr>\n",
       "    <tr>\n",
       "      <th>2012</th>\n",
       "      <td>737329</td>\n",
       "    </tr>\n",
       "  </tbody>\n",
       "</table>\n",
       "</div>"
      ],
      "text/plain": [
       "       value\n",
       "year        \n",
       "2008  738641\n",
       "2009  717214\n",
       "2010  715324\n",
       "2011  724915\n",
       "2012  737329"
      ]
     },
     "execution_count": 26,
     "metadata": {},
     "output_type": "execute_result"
    }
   ],
   "source": [
    "year08_12"
   ]
  },
  {
   "cell_type": "code",
   "execution_count": 30,
   "id": "a83c2497",
   "metadata": {},
   "outputs": [
    {
     "data": {
      "text/html": [
       "<div>\n",
       "<style scoped>\n",
       "    .dataframe tbody tr th:only-of-type {\n",
       "        vertical-align: middle;\n",
       "    }\n",
       "\n",
       "    .dataframe tbody tr th {\n",
       "        vertical-align: top;\n",
       "    }\n",
       "\n",
       "    .dataframe thead th {\n",
       "        text-align: right;\n",
       "    }\n",
       "</style>\n",
       "<table border=\"1\" class=\"dataframe\">\n",
       "  <thead>\n",
       "    <tr style=\"text-align: right;\">\n",
       "      <th></th>\n",
       "      <th>value</th>\n",
       "    </tr>\n",
       "    <tr>\n",
       "      <th>year</th>\n",
       "      <th></th>\n",
       "    </tr>\n",
       "  </thead>\n",
       "  <tbody>\n",
       "    <tr>\n",
       "      <th>2012</th>\n",
       "      <td>737329</td>\n",
       "    </tr>\n",
       "    <tr>\n",
       "      <th>2013</th>\n",
       "      <td>686407</td>\n",
       "    </tr>\n",
       "    <tr>\n",
       "      <th>2014</th>\n",
       "      <td>680183</td>\n",
       "    </tr>\n",
       "    <tr>\n",
       "      <th>2015</th>\n",
       "      <td>711624</td>\n",
       "    </tr>\n",
       "    <tr>\n",
       "      <th>2016</th>\n",
       "      <td>736121</td>\n",
       "    </tr>\n",
       "  </tbody>\n",
       "</table>\n",
       "</div>"
      ],
      "text/plain": [
       "       value\n",
       "year        \n",
       "2012  737329\n",
       "2013  686407\n",
       "2014  680183\n",
       "2015  711624\n",
       "2016  736121"
      ]
     },
     "execution_count": 30,
     "metadata": {},
     "output_type": "execute_result"
    }
   ],
   "source": [
    "year12_16"
   ]
  },
  {
   "cell_type": "code",
   "execution_count": 31,
   "id": "1d3c821f",
   "metadata": {},
   "outputs": [
    {
     "name": "stdout",
     "output_type": "stream",
     "text": [
      "               value\n",
      "count       5.000000\n",
      "mean   726684.600000\n",
      "std     10933.271848\n",
      "min    715324.000000\n",
      "25%    717214.000000\n",
      "50%    724915.000000\n",
      "75%    737329.000000\n",
      "max    738641.000000\n",
      "              value\n",
      "count       5.00000\n",
      "mean   710332.80000\n",
      "std     26818.59251\n",
      "min    680183.00000\n",
      "25%    686407.00000\n",
      "50%    711624.00000\n",
      "75%    736121.00000\n",
      "max    737329.00000\n"
     ]
    }
   ],
   "source": [
    "print(year08_12.describe())\n",
    "print(year12_16.describe())"
   ]
  },
  {
   "cell_type": "code",
   "execution_count": 29,
   "id": "8e2c96c6",
   "metadata": {},
   "outputs": [
    {
     "data": {
      "text/plain": [
       "Text(0.5, 1.0, 'Box Plot of Crime Number from 2012-2016')"
      ]
     },
     "execution_count": 29,
     "metadata": {},
     "output_type": "execute_result"
    },
    {
     "data": {
      "image/png": "[encoded data removed]",
      "text/plain": [
       "<Figure size 1080x504 with 2 Axes>"
      ]
     },
     "metadata": {
      "needs_background": "light"
     },
     "output_type": "display_data"
    }
   ],
   "source": [
    "fig = plt.figure(figsize=(15,7))\n",
    "\n",
    "ax0 = fig.add_subplot(1,2,1)\n",
    "ax1 = fig.add_subplot(1,2,2)\n",
    "\n",
    "year08_12.plot(kind=\"box\", ax=ax0)\n",
    "ax0.set_title(\"Box Plot of Crime Number from 2008-2012\")\n",
    "\n",
    "year12_16.plot(kind=\"box\", ax=ax1)\n",
    "ax1.set_title(\"Box Plot of Crime Number from 2012-2016\")"
   ]
  },
  {
   "cell_type": "markdown",
   "id": "c5fe30f3",
   "metadata": {},
   "source": [
    "Berdasarkan kedua box plot di atas, diketahui bahwa jumlah kasus kejahatan/kriminal di tahun 2008-2012 dan 2012-2016 tidak jauh berbeda distribusi statistiknya. Tetapi, jumlah kasus di tahun 2008-2012 lebih tinggi dibanding jumlah kasus di tahun 2012-2016."
   ]
  },
  {
   "cell_type": "markdown",
   "id": "67b8a457",
   "metadata": {},
   "source": [
    "### Selain dari informasi yang sudah dilampirkan sebelumnya, dengan menggunakan Box Plot juga dapat memperoleh informasi tentang distribusi nilai statistik tertentu yang lebih spesifik lagi, seperti:\n",
    "1. Distribusi nilai statistik jumlah kejahatan/kriminal di wilayah tertentu (misal distribusi nilai statistik jumlah kejahatan/kriminal di Westminster dan Southwark),\n",
    "2. Distribusi nilai statistik jumlah kejahatan/kriminal di wilayah tertentu pada waktu/rentang waktu tertentu (misal distribusi nilai statistik jumlah kejahatn/kriminal di Enfield tahun 2008-2010),\n",
    "3. Distribusi nilai statistik jumlah kejahatan/kriminal pada tahun tertentu (misal distribusi nilai statistik jumlah kejahatan/kriminal pada tahun 2016),\n",
    "4. Distribusi nilai statistik jumlah kejahatan/kriminal di wilayah tertentu pada tahun tertentu (misal distribusi nilai statistik jumlah kejahatan/kriminal di Hillingdon tahun 2014), \n",
    "5. Distribusi nilai statistik jumlah kejahatan/kriminal di wilayah tertentu berdasarkan kategorinya di waktu/rentang waktu tertentu (misal distribusi nilai statistik jumlah kejahatan/kriminal Theft and Handling di Westminster tahun 2012-2016), dst."
   ]
  },
  {
   "cell_type": "markdown",
   "id": "6ced14ef",
   "metadata": {},
   "source": [
    "# Conclusions"
   ]
  },
  {
   "cell_type": "markdown",
   "id": "5637ad38",
   "metadata": {},
   "source": [
    "Dengan menggunakan Box Plot kita dapat menyimpulkan beberapa informasi dari kumpulan data London Crime, 2008-2016, yaitu:\n",
    "1. Jumlah kasus tertinggi kejahatan/kriminal di London dari tahun 2008-2016 adalah 740000 dan jumlah kasus terendah sebesar 680000.\n",
    "2. Terdapat kategori kejahatan/kriminal yang terjadi dengan jumlah kasus jauh lebih tinggi dari kategori lainnya. Serta wilayah yang memiliki jumlah kasus yang jauh lebih tinggi dan jauh lebih rendah dari wilayah lainnya.\n",
    "3. Jumlah kasus kejahatan/kriminal di tahun 2008-2012 lebih tinggi dibanding jumlah kasus kejahatan/kriminal di tahun 2012-2016 walaupun tidak jauh berbeda."
   ]
  }
 ],
 "metadata": {
  "kernelspec": {
   "display_name": "Python 3",
   "language": "python",
   "name": "python3"
  },
  "language_info": {
   "codemirror_mode": {
    "name": "ipython",
    "version": 3
   },
   "file_extension": ".py",
   "mimetype": "text/x-python",
   "name": "python",
   "nbconvert_exporter": "python",
   "pygments_lexer": "ipython3",
   "version": "3.8.8"
  },
  "toc": {
   "base_numbering": 1,
   "nav_menu": {},
   "number_sections": false,
   "sideBar": true,
   "skip_h1_title": false,
   "title_cell": "Table of Contents",
   "title_sidebar": "Contents",
   "toc_cell": false,
   "toc_position": {},
   "toc_section_display": true,
   "toc_window_display": false
  },
  "varInspector": {
   "cols": {
    "lenName": 16,
    "lenType": 16,
    "lenVar": 40
   },
   "kernels_config": {
    "python": {
     "delete_cmd_postfix": "",
     "delete_cmd_prefix": "del ",
     "library": "var_list.py",
     "varRefreshCmd": "print(var_dic_list())"
    },
    "r": {
     "delete_cmd_postfix": ") ",
     "delete_cmd_prefix": "rm(",
     "library": "var_list.r",
     "varRefreshCmd": "cat(var_dic_list()) "
    }
   },
   "types_to_exclude": [
    "module",
    "function",
    "builtin_function_or_method",
    "instance",
    "_Feature"
   ],
   "window_display": false
  }
 },
 "nbformat": 4,
 "nbformat_minor": 5
}
