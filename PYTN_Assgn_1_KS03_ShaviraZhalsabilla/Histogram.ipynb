{
 "cells": [
  {
   "cell_type": "markdown",
   "id": "d3c8d651",
   "metadata": {},
   "source": [
    "# Histogram\n",
    "---\n",
    "Histogram adalah cara untuk merepresentasikan distribusi frekuensi dari dataset numerik. Cara kerjanya adalah mempartisi sumbu x menjadi beberapa bin, menetapkan setiap titik data dalam kumpulan data ke sebuah bin, dan kemudian menghitung jumlah titik data yang telah ditetapkan ke setiap bin. Jadi, sumbu y adalah frekuensi atau banyaknya titik data pada setiap bin. "
   ]
  },
  {
   "cell_type": "markdown",
   "id": "161a8096",
   "metadata": {},
   "source": [
    "### Load Dota"
   ]
  },
  {
   "cell_type": "code",
   "execution_count": 1,
   "id": "20dac82d",
   "metadata": {},
   "outputs": [],
   "source": [
    "import pandas as pd\n",
    "import numpy as np\n",
    "import matplotlib.pyplot as plt"
   ]
  },
  {
   "cell_type": "code",
   "execution_count": 2,
   "id": "963f3a93",
   "metadata": {},
   "outputs": [],
   "source": [
    "london_crime = pd.read_csv(\"london_crime_by_lsoa.csv\")"
   ]
  },
  {
   "cell_type": "markdown",
   "id": "3a849385",
   "metadata": {},
   "source": [
    "### Dengan menggunakan Histogram, kita dapat memperoleh informasi sebagai berikut:"
   ]
  },
  {
   "cell_type": "markdown",
   "id": "ffc6f919",
   "metadata": {},
   "source": [
    "---\n",
    "#### Question: Bagaimana distribusi frekuensi jumlah kejahatan/kriminal tahun 2008-2016?"
   ]
  },
  {
   "cell_type": "code",
   "execution_count": 6,
   "id": "a50c1b0b",
   "metadata": {},
   "outputs": [
    {
     "data": {
      "text/html": [
       "<div>\n",
       "<style scoped>\n",
       "    .dataframe tbody tr th:only-of-type {\n",
       "        vertical-align: middle;\n",
       "    }\n",
       "\n",
       "    .dataframe tbody tr th {\n",
       "        vertical-align: top;\n",
       "    }\n",
       "\n",
       "    .dataframe thead th {\n",
       "        text-align: right;\n",
       "    }\n",
       "</style>\n",
       "<table border=\"1\" class=\"dataframe\">\n",
       "  <thead>\n",
       "    <tr style=\"text-align: right;\">\n",
       "      <th></th>\n",
       "      <th>value</th>\n",
       "    </tr>\n",
       "    <tr>\n",
       "      <th>year</th>\n",
       "      <th></th>\n",
       "    </tr>\n",
       "  </thead>\n",
       "  <tbody>\n",
       "    <tr>\n",
       "      <th>2008</th>\n",
       "      <td>738641</td>\n",
       "    </tr>\n",
       "    <tr>\n",
       "      <th>2009</th>\n",
       "      <td>717214</td>\n",
       "    </tr>\n",
       "    <tr>\n",
       "      <th>2010</th>\n",
       "      <td>715324</td>\n",
       "    </tr>\n",
       "    <tr>\n",
       "      <th>2011</th>\n",
       "      <td>724915</td>\n",
       "    </tr>\n",
       "    <tr>\n",
       "      <th>2012</th>\n",
       "      <td>737329</td>\n",
       "    </tr>\n",
       "    <tr>\n",
       "      <th>2013</th>\n",
       "      <td>686407</td>\n",
       "    </tr>\n",
       "    <tr>\n",
       "      <th>2014</th>\n",
       "      <td>680183</td>\n",
       "    </tr>\n",
       "    <tr>\n",
       "      <th>2015</th>\n",
       "      <td>711624</td>\n",
       "    </tr>\n",
       "    <tr>\n",
       "      <th>2016</th>\n",
       "      <td>736121</td>\n",
       "    </tr>\n",
       "  </tbody>\n",
       "</table>\n",
       "</div>"
      ],
      "text/plain": [
       "       value\n",
       "year        \n",
       "2008  738641\n",
       "2009  717214\n",
       "2010  715324\n",
       "2011  724915\n",
       "2012  737329\n",
       "2013  686407\n",
       "2014  680183\n",
       "2015  711624\n",
       "2016  736121"
      ]
     },
     "execution_count": 6,
     "metadata": {},
     "output_type": "execute_result"
    }
   ],
   "source": [
    "year_frequency = london_crime.drop([\"lsoa_code\",\"borough\",\"major_category\",\"minor_category\",\"month\"], axis=1)\n",
    "year_frequency = year_frequency.groupby(\"year\").sum()\n",
    "year_frequency"
   ]
  },
  {
   "cell_type": "markdown",
   "id": "69e6487e",
   "metadata": {},
   "source": [
    "Tabel di atas adalah tabel jumlah kejahatan/kriminal selama tahun 2008-2016.\n",
    "\n",
    "Selanjutnya adalah partisi sumbu x menjadi beberapa bin:"
   ]
  },
  {
   "cell_type": "code",
   "execution_count": 7,
   "id": "89cd5b47",
   "metadata": {},
   "outputs": [
    {
     "name": "stdout",
     "output_type": "stream",
     "text": [
      "[1 1 0 0 0 1 2 1 0 3]\n",
      "[680183.  686028.8 691874.6 697720.4 703566.2 709412.  715257.8 721103.6\n",
      " 726949.4 732795.2 738641. ]\n"
     ]
    }
   ],
   "source": [
    "count, bin_edges = np.histogram(year_frequency)\n",
    "print(count)\n",
    "print(bin_edges)"
   ]
  },
  {
   "cell_type": "code",
   "execution_count": 11,
   "id": "b729328b",
   "metadata": {},
   "outputs": [
    {
     "data": {
      "image/png": "[encoded data removed]",
      "text/plain": [
       "<Figure size 720x360 with 1 Axes>"
      ]
     },
     "metadata": {
      "needs_background": "light"
     },
     "output_type": "display_data"
    }
   ],
   "source": [
    "year_frequency.plot(kind=\"hist\",\n",
    "                     figsize=(10,5),\n",
    "                     xticks=bin_edges,\n",
    "                     yticks=count,\n",
    "                     legend=False,\n",
    "                     color=\"blue\")\n",
    "plt.title(\"Histogram of Crime Frequency over 2008-2016\\n\", fontsize=20)\n",
    "plt.xlabel(\"\\nNumber of Crime\", fontsize=15)\n",
    "plt.ylabel(\"Number of Year\\n\", fontsize=15)\n",
    "plt.grid(color=\"grey\", linewidth=0.5)\n",
    "plt.show()"
   ]
  },
  {
   "cell_type": "markdown",
   "id": "55f25ffa",
   "metadata": {},
   "source": [
    "Berdasarkan histogram berikut, diketahui bahwa jumlah kejahatan/kriminal berkisar 732795 sampai 738641 memiliki frekuensi tertinggi yaitu 3. Artinya, selama 3 tahun dari 2008-2016, jumlah kejahatan/kriminal di seluruh wilayah metropolitan London berjumlah 732795 sampai 738641. Secara keseluruhan, selama tahun 2008-2016, jumlah kejahatan/kriminal paling rendah adalah 680183 dan tertinggi 738641."
   ]
  },
  {
   "cell_type": "markdown",
   "id": "e0e09887",
   "metadata": {},
   "source": [
    "---\n",
    "#### Question: Bagaimana distribusi frekuensi jumlah kejahatan/kriminal yang terjadi di wilayah metropolitan London tahun 2008-2016?"
   ]
  },
  {
   "cell_type": "code",
   "execution_count": 14,
   "id": "fe967b76",
   "metadata": {},
   "outputs": [
    {
     "data": {
      "text/html": [
       "<div>\n",
       "<style scoped>\n",
       "    .dataframe tbody tr th:only-of-type {\n",
       "        vertical-align: middle;\n",
       "    }\n",
       "\n",
       "    .dataframe tbody tr th {\n",
       "        vertical-align: top;\n",
       "    }\n",
       "\n",
       "    .dataframe thead th {\n",
       "        text-align: right;\n",
       "    }\n",
       "</style>\n",
       "<table border=\"1\" class=\"dataframe\">\n",
       "  <thead>\n",
       "    <tr style=\"text-align: right;\">\n",
       "      <th></th>\n",
       "      <th>value</th>\n",
       "    </tr>\n",
       "    <tr>\n",
       "      <th>borough</th>\n",
       "      <th></th>\n",
       "    </tr>\n",
       "  </thead>\n",
       "  <tbody>\n",
       "    <tr>\n",
       "      <th>Barking and Dagenham</th>\n",
       "      <td>149447</td>\n",
       "    </tr>\n",
       "    <tr>\n",
       "      <th>Barnet</th>\n",
       "      <td>212191</td>\n",
       "    </tr>\n",
       "    <tr>\n",
       "      <th>Bexley</th>\n",
       "      <td>114136</td>\n",
       "    </tr>\n",
       "    <tr>\n",
       "      <th>Brent</th>\n",
       "      <td>227551</td>\n",
       "    </tr>\n",
       "    <tr>\n",
       "      <th>Bromley</th>\n",
       "      <td>184349</td>\n",
       "    </tr>\n",
       "    <tr>\n",
       "      <th>Camden</th>\n",
       "      <td>275147</td>\n",
       "    </tr>\n",
       "    <tr>\n",
       "      <th>City of London</th>\n",
       "      <td>780</td>\n",
       "    </tr>\n",
       "    <tr>\n",
       "      <th>Croydon</th>\n",
       "      <td>260294</td>\n",
       "    </tr>\n",
       "    <tr>\n",
       "      <th>Ealing</th>\n",
       "      <td>251562</td>\n",
       "    </tr>\n",
       "    <tr>\n",
       "      <th>Enfield</th>\n",
       "      <td>193880</td>\n",
       "    </tr>\n",
       "    <tr>\n",
       "      <th>Greenwich</th>\n",
       "      <td>181568</td>\n",
       "    </tr>\n",
       "    <tr>\n",
       "      <th>Hackney</th>\n",
       "      <td>217119</td>\n",
       "    </tr>\n",
       "    <tr>\n",
       "      <th>Hammersmith and Fulham</th>\n",
       "      <td>185259</td>\n",
       "    </tr>\n",
       "    <tr>\n",
       "      <th>Haringey</th>\n",
       "      <td>213272</td>\n",
       "    </tr>\n",
       "    <tr>\n",
       "      <th>Harrow</th>\n",
       "      <td>116848</td>\n",
       "    </tr>\n",
       "    <tr>\n",
       "      <th>Havering</th>\n",
       "      <td>138947</td>\n",
       "    </tr>\n",
       "    <tr>\n",
       "      <th>Hillingdon</th>\n",
       "      <td>209680</td>\n",
       "    </tr>\n",
       "    <tr>\n",
       "      <th>Hounslow</th>\n",
       "      <td>186772</td>\n",
       "    </tr>\n",
       "    <tr>\n",
       "      <th>Islington</th>\n",
       "      <td>230286</td>\n",
       "    </tr>\n",
       "    <tr>\n",
       "      <th>Kensington and Chelsea</th>\n",
       "      <td>171981</td>\n",
       "    </tr>\n",
       "    <tr>\n",
       "      <th>Kingston upon Thames</th>\n",
       "      <td>89306</td>\n",
       "    </tr>\n",
       "    <tr>\n",
       "      <th>Lambeth</th>\n",
       "      <td>292178</td>\n",
       "    </tr>\n",
       "    <tr>\n",
       "      <th>Lewisham</th>\n",
       "      <td>215137</td>\n",
       "    </tr>\n",
       "    <tr>\n",
       "      <th>Merton</th>\n",
       "      <td>115654</td>\n",
       "    </tr>\n",
       "    <tr>\n",
       "      <th>Newham</th>\n",
       "      <td>262024</td>\n",
       "    </tr>\n",
       "    <tr>\n",
       "      <th>Redbridge</th>\n",
       "      <td>183562</td>\n",
       "    </tr>\n",
       "    <tr>\n",
       "      <th>Richmond upon Thames</th>\n",
       "      <td>96771</td>\n",
       "    </tr>\n",
       "    <tr>\n",
       "      <th>Southwark</th>\n",
       "      <td>278809</td>\n",
       "    </tr>\n",
       "    <tr>\n",
       "      <th>Sutton</th>\n",
       "      <td>100987</td>\n",
       "    </tr>\n",
       "    <tr>\n",
       "      <th>Tower Hamlets</th>\n",
       "      <td>228613</td>\n",
       "    </tr>\n",
       "    <tr>\n",
       "      <th>Waltham Forest</th>\n",
       "      <td>203879</td>\n",
       "    </tr>\n",
       "    <tr>\n",
       "      <th>Wandsworth</th>\n",
       "      <td>204741</td>\n",
       "    </tr>\n",
       "    <tr>\n",
       "      <th>Westminster</th>\n",
       "      <td>455028</td>\n",
       "    </tr>\n",
       "  </tbody>\n",
       "</table>\n",
       "</div>"
      ],
      "text/plain": [
       "                         value\n",
       "borough                       \n",
       "Barking and Dagenham    149447\n",
       "Barnet                  212191\n",
       "Bexley                  114136\n",
       "Brent                   227551\n",
       "Bromley                 184349\n",
       "Camden                  275147\n",
       "City of London             780\n",
       "Croydon                 260294\n",
       "Ealing                  251562\n",
       "Enfield                 193880\n",
       "Greenwich               181568\n",
       "Hackney                 217119\n",
       "Hammersmith and Fulham  185259\n",
       "Haringey                213272\n",
       "Harrow                  116848\n",
       "Havering                138947\n",
       "Hillingdon              209680\n",
       "Hounslow                186772\n",
       "Islington               230286\n",
       "Kensington and Chelsea  171981\n",
       "Kingston upon Thames     89306\n",
       "Lambeth                 292178\n",
       "Lewisham                215137\n",
       "Merton                  115654\n",
       "Newham                  262024\n",
       "Redbridge               183562\n",
       "Richmond upon Thames     96771\n",
       "Southwark               278809\n",
       "Sutton                  100987\n",
       "Tower Hamlets           228613\n",
       "Waltham Forest          203879\n",
       "Wandsworth              204741\n",
       "Westminster             455028"
      ]
     },
     "execution_count": 14,
     "metadata": {},
     "output_type": "execute_result"
    }
   ],
   "source": [
    "crime_frequency = london_crime.drop([\"lsoa_code\",\"major_category\",\"minor_category\",\"month\",\"year\"], axis=1)\n",
    "crime_frequency = crime_frequency.groupby(\"borough\").sum()\n",
    "crime_frequency"
   ]
  },
  {
   "cell_type": "markdown",
   "id": "8b55257b",
   "metadata": {},
   "source": [
    "Tabel di atas adalah tabel jumlah kejahatan/kriminal di masing-masing wilayah metropolitan di London/_borough_ selama tahun 2008-2016.\n",
    "\n",
    "Selanjutnya adalah partisi sumbu x menjadi beberapa bin:"
   ]
  },
  {
   "cell_type": "code",
   "execution_count": 15,
   "id": "99b39d34",
   "metadata": {},
   "outputs": [
    {
     "name": "stdout",
     "output_type": "stream",
     "text": [
      "[ 1  1  5  4 13  5  3  0  0  1]\n",
      "[   780.   46204.8  91629.6 137054.4 182479.2 227904.  273328.8 318753.6\n",
      " 364178.4 409603.2 455028. ]\n"
     ]
    }
   ],
   "source": [
    "count, bin_edges = np.histogram(crime_frequency)\n",
    "print(count)\n",
    "print(bin_edges)"
   ]
  },
  {
   "cell_type": "code",
   "execution_count": 17,
   "id": "fdc555c9",
   "metadata": {},
   "outputs": [
    {
     "data": {
      "image/png": "[encoded data removed]",
      "text/plain": [
       "<Figure size 720x360 with 1 Axes>"
      ]
     },
     "metadata": {
      "needs_background": "light"
     },
     "output_type": "display_data"
    }
   ],
   "source": [
    "crime_frequency.plot(kind=\"hist\",\n",
    "                     figsize=(10,5),\n",
    "                     xticks=bin_edges,\n",
    "                     yticks=count,\n",
    "                     legend=False,\n",
    "                     color=\"indianred\")\n",
    "plt.title(\"Crime Frequency from 33 Borough in London [2008-2016]\\n\", fontsize=20)\n",
    "plt.xlabel(\"\\nNumber of Crime\", fontsize=15)\n",
    "plt.ylabel(\"Number of Borough\\n\", fontsize=15)\n",
    "plt.grid(color=\"grey\", linewidth=0.5)\n",
    "plt.show()"
   ]
  },
  {
   "cell_type": "markdown",
   "id": "e585b94e",
   "metadata": {},
   "source": [
    "Berdasarkan histogram berikut, diketahui bahwa frekuensi tertinggi jumlah kejahatan/kriminal adalah antara 182479 sampai dengan 227904 yaitu sebanyak 13 wilayah metropolitan/_borough_. Artinya, terdapat 13 _borough_ yang memiliki jumlah kejahatan/kriminal antara 182479 sampai dengan 227904 selama tahun 2008-2016. Selain itu frekuensi terkecil jumlah kejahatan/kriminal tertinggi adalah 409603 sampai 455028, yang berarti terdapat 1 _borough_ yang memiliki jumlah kejahatan/kriminal 409603 sampai 455028. Begitu pun dengan jumlah kejahatan/kriminal dari 780 sampai dengan 46205 yaitu sebanyak 1 _borough_."
   ]
  },
  {
   "cell_type": "markdown",
   "id": "5dfc6a00",
   "metadata": {},
   "source": [
    "---\n",
    "#### Question: Untuk lebih spesifik, bagaimana distribusi frekuensi jumlah kejahatan/kriminal di wilayah metropolitan/_borough_ pada tahun 2012 dan 2016?"
   ]
  },
  {
   "cell_type": "markdown",
   "id": "e280e545",
   "metadata": {},
   "source": [
    "Diketahui sebelumnya bahwa secara grafis, sebagian besar jumlah kejahatan/kriminal tertinggi, baik itu berdasarkan wilayah metropolitan/_borough_ tertentu ataupun kategori kejahatan/kriminal tertentu, mencapai jumlah tertinggi di tahun 2012 dan 2016. Menggunakan histogram, kita dapat mengetahui bagaiman distribusi frekuensi jumlah kejahatan/kriminal di wilayah metropolitan pada tahun 2012 dan 2016."
   ]
  },
  {
   "cell_type": "code",
   "execution_count": 19,
   "id": "7d151062",
   "metadata": {},
   "outputs": [
    {
     "data": {
      "text/html": [
       "<div>\n",
       "<style scoped>\n",
       "    .dataframe tbody tr th:only-of-type {\n",
       "        vertical-align: middle;\n",
       "    }\n",
       "\n",
       "    .dataframe tbody tr th {\n",
       "        vertical-align: top;\n",
       "    }\n",
       "\n",
       "    .dataframe thead th {\n",
       "        text-align: right;\n",
       "    }\n",
       "</style>\n",
       "<table border=\"1\" class=\"dataframe\">\n",
       "  <thead>\n",
       "    <tr style=\"text-align: right;\">\n",
       "      <th></th>\n",
       "      <th>value</th>\n",
       "    </tr>\n",
       "    <tr>\n",
       "      <th>borough</th>\n",
       "      <th></th>\n",
       "    </tr>\n",
       "  </thead>\n",
       "  <tbody>\n",
       "    <tr>\n",
       "      <th>Barking and Dagenham</th>\n",
       "      <td>16741</td>\n",
       "    </tr>\n",
       "    <tr>\n",
       "      <th>Barnet</th>\n",
       "      <td>24684</td>\n",
       "    </tr>\n",
       "    <tr>\n",
       "      <th>Bexley</th>\n",
       "      <td>12840</td>\n",
       "    </tr>\n",
       "    <tr>\n",
       "      <th>Brent</th>\n",
       "      <td>26693</td>\n",
       "    </tr>\n",
       "    <tr>\n",
       "      <th>Bromley</th>\n",
       "      <td>20164</td>\n",
       "    </tr>\n",
       "    <tr>\n",
       "      <th>Camden</th>\n",
       "      <td>29183</td>\n",
       "    </tr>\n",
       "    <tr>\n",
       "      <th>City of London</th>\n",
       "      <td>178</td>\n",
       "    </tr>\n",
       "    <tr>\n",
       "      <th>Croydon</th>\n",
       "      <td>28712</td>\n",
       "    </tr>\n",
       "    <tr>\n",
       "      <th>Ealing</th>\n",
       "      <td>27127</td>\n",
       "    </tr>\n",
       "    <tr>\n",
       "      <th>Enfield</th>\n",
       "      <td>22485</td>\n",
       "    </tr>\n",
       "    <tr>\n",
       "      <th>Greenwich</th>\n",
       "      <td>22730</td>\n",
       "    </tr>\n",
       "    <tr>\n",
       "      <th>Hackney</th>\n",
       "      <td>28265</td>\n",
       "    </tr>\n",
       "    <tr>\n",
       "      <th>Hammersmith and Fulham</th>\n",
       "      <td>20174</td>\n",
       "    </tr>\n",
       "    <tr>\n",
       "      <th>Haringey</th>\n",
       "      <td>27174</td>\n",
       "    </tr>\n",
       "    <tr>\n",
       "      <th>Harrow</th>\n",
       "      <td>13153</td>\n",
       "    </tr>\n",
       "    <tr>\n",
       "      <th>Havering</th>\n",
       "      <td>16903</td>\n",
       "    </tr>\n",
       "    <tr>\n",
       "      <th>Hillingdon</th>\n",
       "      <td>24341</td>\n",
       "    </tr>\n",
       "    <tr>\n",
       "      <th>Hounslow</th>\n",
       "      <td>22251</td>\n",
       "    </tr>\n",
       "    <tr>\n",
       "      <th>Islington</th>\n",
       "      <td>27092</td>\n",
       "    </tr>\n",
       "    <tr>\n",
       "      <th>Kensington and Chelsea</th>\n",
       "      <td>19580</td>\n",
       "    </tr>\n",
       "    <tr>\n",
       "      <th>Kingston upon Thames</th>\n",
       "      <td>9983</td>\n",
       "    </tr>\n",
       "    <tr>\n",
       "      <th>Lambeth</th>\n",
       "      <td>34071</td>\n",
       "    </tr>\n",
       "    <tr>\n",
       "      <th>Lewisham</th>\n",
       "      <td>23904</td>\n",
       "    </tr>\n",
       "    <tr>\n",
       "      <th>Merton</th>\n",
       "      <td>12755</td>\n",
       "    </tr>\n",
       "    <tr>\n",
       "      <th>Newham</th>\n",
       "      <td>30090</td>\n",
       "    </tr>\n",
       "    <tr>\n",
       "      <th>Redbridge</th>\n",
       "      <td>19502</td>\n",
       "    </tr>\n",
       "    <tr>\n",
       "      <th>Richmond upon Thames</th>\n",
       "      <td>11074</td>\n",
       "    </tr>\n",
       "    <tr>\n",
       "      <th>Southwark</th>\n",
       "      <td>31636</td>\n",
       "    </tr>\n",
       "    <tr>\n",
       "      <th>Sutton</th>\n",
       "      <td>10658</td>\n",
       "    </tr>\n",
       "    <tr>\n",
       "      <th>Tower Hamlets</th>\n",
       "      <td>29253</td>\n",
       "    </tr>\n",
       "    <tr>\n",
       "      <th>Waltham Forest</th>\n",
       "      <td>20716</td>\n",
       "    </tr>\n",
       "    <tr>\n",
       "      <th>Wandsworth</th>\n",
       "      <td>23679</td>\n",
       "    </tr>\n",
       "    <tr>\n",
       "      <th>Westminster</th>\n",
       "      <td>48330</td>\n",
       "    </tr>\n",
       "  </tbody>\n",
       "</table>\n",
       "</div>"
      ],
      "text/plain": [
       "                        value\n",
       "borough                      \n",
       "Barking and Dagenham    16741\n",
       "Barnet                  24684\n",
       "Bexley                  12840\n",
       "Brent                   26693\n",
       "Bromley                 20164\n",
       "Camden                  29183\n",
       "City of London            178\n",
       "Croydon                 28712\n",
       "Ealing                  27127\n",
       "Enfield                 22485\n",
       "Greenwich               22730\n",
       "Hackney                 28265\n",
       "Hammersmith and Fulham  20174\n",
       "Haringey                27174\n",
       "Harrow                  13153\n",
       "Havering                16903\n",
       "Hillingdon              24341\n",
       "Hounslow                22251\n",
       "Islington               27092\n",
       "Kensington and Chelsea  19580\n",
       "Kingston upon Thames     9983\n",
       "Lambeth                 34071\n",
       "Lewisham                23904\n",
       "Merton                  12755\n",
       "Newham                  30090\n",
       "Redbridge               19502\n",
       "Richmond upon Thames    11074\n",
       "Southwark               31636\n",
       "Sutton                  10658\n",
       "Tower Hamlets           29253\n",
       "Waltham Forest          20716\n",
       "Wandsworth              23679\n",
       "Westminster             48330"
      ]
     },
     "execution_count": 19,
     "metadata": {},
     "output_type": "execute_result"
    }
   ],
   "source": [
    "#Berikut adalah tabel jumlah kejahatan/kriminal yang terjadi di tahun 2016\n",
    "frequency = london_crime.drop([\"lsoa_code\",\"major_category\",\"minor_category\",\"month\"], axis=1).set_index(\"year\")\n",
    "frequency16 = frequency.loc[2016]\n",
    "frequency16 = frequency16.groupby(\"borough\").sum()\n",
    "frequency16"
   ]
  },
  {
   "cell_type": "code",
   "execution_count": 20,
   "id": "a7a9c05f",
   "metadata": {},
   "outputs": [
    {
     "data": {
      "text/html": [
       "<div>\n",
       "<style scoped>\n",
       "    .dataframe tbody tr th:only-of-type {\n",
       "        vertical-align: middle;\n",
       "    }\n",
       "\n",
       "    .dataframe tbody tr th {\n",
       "        vertical-align: top;\n",
       "    }\n",
       "\n",
       "    .dataframe thead th {\n",
       "        text-align: right;\n",
       "    }\n",
       "</style>\n",
       "<table border=\"1\" class=\"dataframe\">\n",
       "  <thead>\n",
       "    <tr style=\"text-align: right;\">\n",
       "      <th></th>\n",
       "      <th>value</th>\n",
       "    </tr>\n",
       "    <tr>\n",
       "      <th>borough</th>\n",
       "      <th></th>\n",
       "    </tr>\n",
       "  </thead>\n",
       "  <tbody>\n",
       "    <tr>\n",
       "      <th>Barking and Dagenham</th>\n",
       "      <td>15990</td>\n",
       "    </tr>\n",
       "    <tr>\n",
       "      <th>Barnet</th>\n",
       "      <td>23573</td>\n",
       "    </tr>\n",
       "    <tr>\n",
       "      <th>Bexley</th>\n",
       "      <td>11669</td>\n",
       "    </tr>\n",
       "    <tr>\n",
       "      <th>Brent</th>\n",
       "      <td>26357</td>\n",
       "    </tr>\n",
       "    <tr>\n",
       "      <th>Bromley</th>\n",
       "      <td>19622</td>\n",
       "    </tr>\n",
       "    <tr>\n",
       "      <th>Camden</th>\n",
       "      <td>31472</td>\n",
       "    </tr>\n",
       "    <tr>\n",
       "      <th>City of London</th>\n",
       "      <td>157</td>\n",
       "    </tr>\n",
       "    <tr>\n",
       "      <th>Croydon</th>\n",
       "      <td>30189</td>\n",
       "    </tr>\n",
       "    <tr>\n",
       "      <th>Ealing</th>\n",
       "      <td>28832</td>\n",
       "    </tr>\n",
       "    <tr>\n",
       "      <th>Enfield</th>\n",
       "      <td>21069</td>\n",
       "    </tr>\n",
       "    <tr>\n",
       "      <th>Greenwich</th>\n",
       "      <td>20028</td>\n",
       "    </tr>\n",
       "    <tr>\n",
       "      <th>Hackney</th>\n",
       "      <td>27095</td>\n",
       "    </tr>\n",
       "    <tr>\n",
       "      <th>Hammersmith and Fulham</th>\n",
       "      <td>21030</td>\n",
       "    </tr>\n",
       "    <tr>\n",
       "      <th>Haringey</th>\n",
       "      <td>23231</td>\n",
       "    </tr>\n",
       "    <tr>\n",
       "      <th>Harrow</th>\n",
       "      <td>12803</td>\n",
       "    </tr>\n",
       "    <tr>\n",
       "      <th>Havering</th>\n",
       "      <td>15965</td>\n",
       "    </tr>\n",
       "    <tr>\n",
       "      <th>Hillingdon</th>\n",
       "      <td>22103</td>\n",
       "    </tr>\n",
       "    <tr>\n",
       "      <th>Hounslow</th>\n",
       "      <td>22724</td>\n",
       "    </tr>\n",
       "    <tr>\n",
       "      <th>Islington</th>\n",
       "      <td>26268</td>\n",
       "    </tr>\n",
       "    <tr>\n",
       "      <th>Kensington and Chelsea</th>\n",
       "      <td>19757</td>\n",
       "    </tr>\n",
       "    <tr>\n",
       "      <th>Kingston upon Thames</th>\n",
       "      <td>9956</td>\n",
       "    </tr>\n",
       "    <tr>\n",
       "      <th>Lambeth</th>\n",
       "      <td>33473</td>\n",
       "    </tr>\n",
       "    <tr>\n",
       "      <th>Lewisham</th>\n",
       "      <td>23652</td>\n",
       "    </tr>\n",
       "    <tr>\n",
       "      <th>Merton</th>\n",
       "      <td>12856</td>\n",
       "    </tr>\n",
       "    <tr>\n",
       "      <th>Newham</th>\n",
       "      <td>30067</td>\n",
       "    </tr>\n",
       "    <tr>\n",
       "      <th>Redbridge</th>\n",
       "      <td>21424</td>\n",
       "    </tr>\n",
       "    <tr>\n",
       "      <th>Richmond upon Thames</th>\n",
       "      <td>11168</td>\n",
       "    </tr>\n",
       "    <tr>\n",
       "      <th>Southwark</th>\n",
       "      <td>30737</td>\n",
       "    </tr>\n",
       "    <tr>\n",
       "      <th>Sutton</th>\n",
       "      <td>10948</td>\n",
       "    </tr>\n",
       "    <tr>\n",
       "      <th>Tower Hamlets</th>\n",
       "      <td>26784</td>\n",
       "    </tr>\n",
       "    <tr>\n",
       "      <th>Waltham Forest</th>\n",
       "      <td>22647</td>\n",
       "    </tr>\n",
       "    <tr>\n",
       "      <th>Wandsworth</th>\n",
       "      <td>24457</td>\n",
       "    </tr>\n",
       "    <tr>\n",
       "      <th>Westminster</th>\n",
       "      <td>59226</td>\n",
       "    </tr>\n",
       "  </tbody>\n",
       "</table>\n",
       "</div>"
      ],
      "text/plain": [
       "                        value\n",
       "borough                      \n",
       "Barking and Dagenham    15990\n",
       "Barnet                  23573\n",
       "Bexley                  11669\n",
       "Brent                   26357\n",
       "Bromley                 19622\n",
       "Camden                  31472\n",
       "City of London            157\n",
       "Croydon                 30189\n",
       "Ealing                  28832\n",
       "Enfield                 21069\n",
       "Greenwich               20028\n",
       "Hackney                 27095\n",
       "Hammersmith and Fulham  21030\n",
       "Haringey                23231\n",
       "Harrow                  12803\n",
       "Havering                15965\n",
       "Hillingdon              22103\n",
       "Hounslow                22724\n",
       "Islington               26268\n",
       "Kensington and Chelsea  19757\n",
       "Kingston upon Thames     9956\n",
       "Lambeth                 33473\n",
       "Lewisham                23652\n",
       "Merton                  12856\n",
       "Newham                  30067\n",
       "Redbridge               21424\n",
       "Richmond upon Thames    11168\n",
       "Southwark               30737\n",
       "Sutton                  10948\n",
       "Tower Hamlets           26784\n",
       "Waltham Forest          22647\n",
       "Wandsworth              24457\n",
       "Westminster             59226"
      ]
     },
     "execution_count": 20,
     "metadata": {},
     "output_type": "execute_result"
    }
   ],
   "source": [
    "#Berikut adalah tabel jumlah kejahatan/kriminal yang terjadi di tahun 2012\n",
    "frequency12 = frequency.loc[2012]\n",
    "frequency12 = frequency12.groupby(\"borough\").sum()\n",
    "frequency12"
   ]
  },
  {
   "cell_type": "markdown",
   "id": "a57f977a",
   "metadata": {},
   "source": [
    "Berikut adalah partisi bin dari masing-masing tahun:"
   ]
  },
  {
   "cell_type": "code",
   "execution_count": 21,
   "id": "e2297059",
   "metadata": {},
   "outputs": [
    {
     "name": "stdout",
     "output_type": "stream",
     "text": [
      "[ 1  4  4 12  6  5  0  0  0  1]\n",
      "[  157.   6063.9 11970.8 17877.7 23784.6 29691.5 35598.4 41505.3 47412.2\n",
      " 53319.1 59226. ]\n"
     ]
    }
   ],
   "source": [
    "#Tahun 2012\n",
    "count12, bin_edges12 = np.histogram(frequency12)\n",
    "print(count12)\n",
    "print(bin_edges12)"
   ]
  },
  {
   "cell_type": "code",
   "execution_count": 22,
   "id": "279cf32c",
   "metadata": {},
   "outputs": [
    {
     "name": "stdout",
     "output_type": "stream",
     "text": [
      "[ 1  0  6  2 10  8  4  1  0  1]\n",
      "[  178.   4993.2  9808.4 14623.6 19438.8 24254.  29069.2 33884.4 38699.6\n",
      " 43514.8 48330. ]\n"
     ]
    }
   ],
   "source": [
    "#Tahun 2016\n",
    "count16, bin_edges16 = np.histogram(frequency16)\n",
    "print(count16)\n",
    "print(bin_edges16)"
   ]
  },
  {
   "cell_type": "code",
   "execution_count": 32,
   "id": "ae688d14",
   "metadata": {},
   "outputs": [
    {
     "data": {
      "text/plain": [
       "Text(0, 0.5, 'Number of Borough')"
      ]
     },
     "execution_count": 32,
     "metadata": {},
     "output_type": "execute_result"
    },
    {
     "data": {
      "image/png": "[encoded data removed]",
      "text/plain": [
       "<Figure size 1080x504 with 2 Axes>"
      ]
     },
     "metadata": {
      "needs_background": "light"
     },
     "output_type": "display_data"
    }
   ],
   "source": [
    "fig = plt.figure(figsize=(15,7))\n",
    "\n",
    "ax0 = fig.add_subplot(1,2,1) #1\n",
    "ax1 = fig.add_subplot(1,2,2) #2\n",
    "\n",
    "frequency12.plot(kind=\"hist\", xticks=bin_edges12, yticks=count12, ax=ax0, legend=False, color=\"g\")\n",
    "ax0.set_title(\"Histogram of Crime Frequency in 2012\")\n",
    "ax0.grid(color=\"grey\", linewidth=0.5)\n",
    "ax0.set_xlabel(\"Number of Crime\")\n",
    "ax0.set_ylabel(\"Number of Borough\")\n",
    "\n",
    "frequency16.plot(kind=\"hist\", xticks=bin_edges16, yticks=count16, ax=ax1, legend=False, color=\"r\")\n",
    "ax1.set_title(\"Histogram of Crime Frequency in 2016\")\n",
    "ax1.grid(color=\"grey\", linewidth=0.5)\n",
    "ax1.set_xlabel(\"Number of Crime\")\n",
    "ax1.set_ylabel(\"Number of Borough\")"
   ]
  },
  {
   "cell_type": "markdown",
   "id": "b088c385",
   "metadata": {},
   "source": [
    "Berdasarkan histogram di atas, diketahui bahwa distribusi frekuensi dengan frekuensi tertinggi di tahun 2012 menunjukkan terdapat 12 wilayah dengan jumlah kejahatan/kriminal sebesar 17878 sampai dengan 23685, sedangkan di tahun 2016 menunjukkan terdapat 10 wilayah dengan jumlah kejahatan/kriminal sebesar 19439 sampai dengan 24254. Secara grafis, distribusi frekuensi jumlah kejahatan/kriminal di tahun 2012 dan 2016 tidak jauh berbeda. "
   ]
  },
  {
   "cell_type": "markdown",
   "id": "da8c8e72",
   "metadata": {},
   "source": [
    "---\n",
    "#### Question: Bagaimana distribusi frekuensi jumlah kejahatan/kriminal di wilayah metropolitan London/_borough_ tertentu (misal Westminster, Southwark, dan Lambeth) di tahun 2008-2016?"
   ]
  },
  {
   "cell_type": "markdown",
   "id": "14f31d43",
   "metadata": {},
   "source": [
    "Telah diketahui sebelumnya dengan [area plot]() bahwa Westminster, Southwark, dan Lambeth adalah wilayah metropolitan dengan jumlah kejahatan/kriminal tertinggi di tahun 2008-2016. Berikut adalah distribusi frekuensi jumlah kejahatan/kriminal di 3 wilayah tersebut selama tahun 2008-2016."
   ]
  },
  {
   "cell_type": "code",
   "execution_count": 35,
   "id": "d235ed47",
   "metadata": {},
   "outputs": [
    {
     "data": {
      "text/html": [
       "<div>\n",
       "<style scoped>\n",
       "    .dataframe tbody tr th:only-of-type {\n",
       "        vertical-align: middle;\n",
       "    }\n",
       "\n",
       "    .dataframe tbody tr th {\n",
       "        vertical-align: top;\n",
       "    }\n",
       "\n",
       "    .dataframe thead th {\n",
       "        text-align: right;\n",
       "    }\n",
       "</style>\n",
       "<table border=\"1\" class=\"dataframe\">\n",
       "  <thead>\n",
       "    <tr style=\"text-align: right;\">\n",
       "      <th></th>\n",
       "      <th>value</th>\n",
       "    </tr>\n",
       "    <tr>\n",
       "      <th>borough</th>\n",
       "      <th></th>\n",
       "    </tr>\n",
       "  </thead>\n",
       "  <tbody>\n",
       "    <tr>\n",
       "      <th>Westminster</th>\n",
       "      <td>455028</td>\n",
       "    </tr>\n",
       "    <tr>\n",
       "      <th>Lambeth</th>\n",
       "      <td>292178</td>\n",
       "    </tr>\n",
       "    <tr>\n",
       "      <th>Southwark</th>\n",
       "      <td>278809</td>\n",
       "    </tr>\n",
       "  </tbody>\n",
       "</table>\n",
       "</div>"
      ],
      "text/plain": [
       "              value\n",
       "borough            \n",
       "Westminster  455028\n",
       "Lambeth      292178\n",
       "Southwark    278809"
      ]
     },
     "execution_count": 35,
     "metadata": {},
     "output_type": "execute_result"
    }
   ],
   "source": [
    "top3_crime = london_crime.drop([\"lsoa_code\",\"major_category\",\"minor_category\",\"month\"], axis=1)\n",
    "top3_crime = top3_crime.set_index(\"year\").groupby(\"borough\").sum()\n",
    "top3_crime = top3_crime.sort_values(by=\"value\", ascending=False).head(3)\n",
    "top3_crime"
   ]
  },
  {
   "cell_type": "code",
   "execution_count": 36,
   "id": "701a5015",
   "metadata": {},
   "outputs": [
    {
     "data": {
      "text/html": [
       "<div>\n",
       "<style scoped>\n",
       "    .dataframe tbody tr th:only-of-type {\n",
       "        vertical-align: middle;\n",
       "    }\n",
       "\n",
       "    .dataframe tbody tr th {\n",
       "        vertical-align: top;\n",
       "    }\n",
       "\n",
       "    .dataframe thead th {\n",
       "        text-align: right;\n",
       "    }\n",
       "</style>\n",
       "<table border=\"1\" class=\"dataframe\">\n",
       "  <thead>\n",
       "    <tr style=\"text-align: right;\">\n",
       "      <th>borough</th>\n",
       "      <th>Lambeth</th>\n",
       "      <th>Southwark</th>\n",
       "      <th>Westminster</th>\n",
       "    </tr>\n",
       "    <tr>\n",
       "      <th>year</th>\n",
       "      <th></th>\n",
       "      <th></th>\n",
       "      <th></th>\n",
       "    </tr>\n",
       "  </thead>\n",
       "  <tbody>\n",
       "    <tr>\n",
       "      <th>2008</th>\n",
       "      <td>31717</td>\n",
       "      <td>33470</td>\n",
       "      <td>47846</td>\n",
       "    </tr>\n",
       "    <tr>\n",
       "      <th>2009</th>\n",
       "      <td>31225</td>\n",
       "      <td>30623</td>\n",
       "      <td>48456</td>\n",
       "    </tr>\n",
       "    <tr>\n",
       "      <th>2010</th>\n",
       "      <td>31671</td>\n",
       "      <td>31320</td>\n",
       "      <td>48116</td>\n",
       "    </tr>\n",
       "    <tr>\n",
       "      <th>2011</th>\n",
       "      <td>33224</td>\n",
       "      <td>30723</td>\n",
       "      <td>54243</td>\n",
       "    </tr>\n",
       "    <tr>\n",
       "      <th>2012</th>\n",
       "      <td>33473</td>\n",
       "      <td>30737</td>\n",
       "      <td>59226</td>\n",
       "    </tr>\n",
       "    <tr>\n",
       "      <th>2013</th>\n",
       "      <td>31868</td>\n",
       "      <td>31128</td>\n",
       "      <td>53852</td>\n",
       "    </tr>\n",
       "    <tr>\n",
       "      <th>2014</th>\n",
       "      <td>31765</td>\n",
       "      <td>28912</td>\n",
       "      <td>47564</td>\n",
       "    </tr>\n",
       "    <tr>\n",
       "      <th>2015</th>\n",
       "      <td>33164</td>\n",
       "      <td>30260</td>\n",
       "      <td>47395</td>\n",
       "    </tr>\n",
       "    <tr>\n",
       "      <th>2016</th>\n",
       "      <td>34071</td>\n",
       "      <td>31636</td>\n",
       "      <td>48330</td>\n",
       "    </tr>\n",
       "  </tbody>\n",
       "</table>\n",
       "</div>"
      ],
      "text/plain": [
       "borough  Lambeth  Southwark  Westminster\n",
       "year                                    \n",
       "2008       31717      33470        47846\n",
       "2009       31225      30623        48456\n",
       "2010       31671      31320        48116\n",
       "2011       33224      30723        54243\n",
       "2012       33473      30737        59226\n",
       "2013       31868      31128        53852\n",
       "2014       31765      28912        47564\n",
       "2015       33164      30260        47395\n",
       "2016       34071      31636        48330"
      ]
     },
     "execution_count": 36,
     "metadata": {},
     "output_type": "execute_result"
    }
   ],
   "source": [
    "frequency_top3 = london_crime.drop([\"lsoa_code\",\"major_category\",\"minor_category\",\"month\"],axis=1).set_index(\"borough\")\n",
    "frequency_top3 = frequency_top3.loc[top3_crime.index]\n",
    "frequency_top3 = pd.pivot_table(frequency_top3, values=\"value\", aggfunc=np.sum, index=\"year\", columns=\"borough\")\n",
    "frequency_top3"
   ]
  },
  {
   "cell_type": "code",
   "execution_count": 37,
   "id": "7aa136d9",
   "metadata": {},
   "outputs": [
    {
     "name": "stdout",
     "output_type": "stream",
     "text": [
      "[13  5  0  0  0  0  6  0  2  1]\n",
      "[28912.  31943.4 34974.8 38006.2 41037.6 44069.  47100.4 50131.8 53163.2\n",
      " 56194.6 59226. ]\n"
     ]
    }
   ],
   "source": [
    "count, bin_edges = np.histogram(frequency_top3)\n",
    "print(count)\n",
    "print(bin_edges)"
   ]
  },
  {
   "cell_type": "code",
   "execution_count": 40,
   "id": "4781c469",
   "metadata": {},
   "outputs": [
    {
     "data": {
      "image/png": "[encoded data removed]",
      "text/plain": [
       "<Figure size 720x504 with 1 Axes>"
      ]
     },
     "metadata": {
      "needs_background": "light"
     },
     "output_type": "display_data"
    }
   ],
   "source": [
    "frequency_top3.plot(kind=\"hist\",\n",
    "                     figsize=(10,7),\n",
    "                     xticks=bin_edges,\n",
    "                     yticks=count)\n",
    "plt.title(\"Histogram of Crime from Frequency Westminster, Southwark, and Lambeth 2008-2016\", fontsize=20)\n",
    "plt.xlabel(\"Number of Crime\", fontsize=15)\n",
    "plt.ylabel(\"Number of Years\", fontsize=15)\n",
    "plt.grid(color=\"grey\", linewidth=0.4)\n",
    "plt.show()"
   ]
  },
  {
   "cell_type": "markdown",
   "id": "abda2ed4",
   "metadata": {},
   "source": [
    "Diketahui bahwa distribusi frekuensi Lambeth dan Southwark memiliki distribusi frekuensi yang mirip, yaitu berkisar di 28912 sampai dengan 34975. Sedangkan untuk Westminster memiliki frekuensi tertinggi pada saat jumlah kejahatan/kriminalnya berkisar di 47100 sampai 50132."
   ]
  },
  {
   "cell_type": "markdown",
   "id": "b6c89693",
   "metadata": {},
   "source": [
    "---\n",
    "#### Question: Bagaimana distribusi frekuensi kategori kejahatan/kriminal tertentu (misal Burglary, Theft and Handling, dan Violance Against the Person) selama tahun 2008-2016?"
   ]
  },
  {
   "cell_type": "markdown",
   "id": "fcc2758c",
   "metadata": {},
   "source": [
    "Sebelumnya sudah diketahui bahwa 3 kategori kejahatan/kriminal dengan jumlah tertinggi selama tahun 2008-2016 adalah Burglary, Theft and Handling, dan Violance Against the Person ([area_plot]()). Dengan histogram, kita dapat mengetahui bagaimana distribusi frekuensi dari kategori kejahatan/kriminal ini selama tahun 2008-2016."
   ]
  },
  {
   "cell_type": "code",
   "execution_count": 4,
   "id": "a38f62ba",
   "metadata": {},
   "outputs": [
    {
     "data": {
      "text/html": [
       "<div>\n",
       "<style scoped>\n",
       "    .dataframe tbody tr th:only-of-type {\n",
       "        vertical-align: middle;\n",
       "    }\n",
       "\n",
       "    .dataframe tbody tr th {\n",
       "        vertical-align: top;\n",
       "    }\n",
       "\n",
       "    .dataframe thead th {\n",
       "        text-align: right;\n",
       "    }\n",
       "</style>\n",
       "<table border=\"1\" class=\"dataframe\">\n",
       "  <thead>\n",
       "    <tr style=\"text-align: right;\">\n",
       "      <th></th>\n",
       "      <th>value</th>\n",
       "    </tr>\n",
       "    <tr>\n",
       "      <th>major_category</th>\n",
       "      <th></th>\n",
       "    </tr>\n",
       "  </thead>\n",
       "  <tbody>\n",
       "    <tr>\n",
       "      <th>Theft and Handling</th>\n",
       "      <td>2661861</td>\n",
       "    </tr>\n",
       "    <tr>\n",
       "      <th>Violence Against the Person</th>\n",
       "      <td>1558081</td>\n",
       "    </tr>\n",
       "    <tr>\n",
       "      <th>Burglary</th>\n",
       "      <td>754293</td>\n",
       "    </tr>\n",
       "  </tbody>\n",
       "</table>\n",
       "</div>"
      ],
      "text/plain": [
       "                               value\n",
       "major_category                      \n",
       "Theft and Handling           2661861\n",
       "Violence Against the Person  1558081\n",
       "Burglary                      754293"
      ]
     },
     "execution_count": 4,
     "metadata": {},
     "output_type": "execute_result"
    }
   ],
   "source": [
    "top3_major = london_crime.drop([\"lsoa_code\",\"borough\",\"minor_category\",\"month\"], axis=1)\n",
    "top3_major.set_index(\"year\", inplace=True)\n",
    "top3_major = top3_major.groupby(\"major_category\").sum()\n",
    "top3_major = top3_major.sort_values(by=\"value\", ascending=False).head(3)\n",
    "top3_major"
   ]
  },
  {
   "cell_type": "code",
   "execution_count": 5,
   "id": "9f1d3022",
   "metadata": {},
   "outputs": [
    {
     "data": {
      "text/html": [
       "<div>\n",
       "<style scoped>\n",
       "    .dataframe tbody tr th:only-of-type {\n",
       "        vertical-align: middle;\n",
       "    }\n",
       "\n",
       "    .dataframe tbody tr th {\n",
       "        vertical-align: top;\n",
       "    }\n",
       "\n",
       "    .dataframe thead th {\n",
       "        text-align: right;\n",
       "    }\n",
       "</style>\n",
       "<table border=\"1\" class=\"dataframe\">\n",
       "  <thead>\n",
       "    <tr style=\"text-align: right;\">\n",
       "      <th>major_category</th>\n",
       "      <th>Burglary</th>\n",
       "      <th>Theft and Handling</th>\n",
       "      <th>Violence Against the Person</th>\n",
       "    </tr>\n",
       "    <tr>\n",
       "      <th>year</th>\n",
       "      <th></th>\n",
       "      <th></th>\n",
       "      <th></th>\n",
       "    </tr>\n",
       "  </thead>\n",
       "  <tbody>\n",
       "    <tr>\n",
       "      <th>2008</th>\n",
       "      <td>88092</td>\n",
       "      <td>283692</td>\n",
       "      <td>159844</td>\n",
       "    </tr>\n",
       "    <tr>\n",
       "      <th>2009</th>\n",
       "      <td>90619</td>\n",
       "      <td>279492</td>\n",
       "      <td>160777</td>\n",
       "    </tr>\n",
       "    <tr>\n",
       "      <th>2010</th>\n",
       "      <td>86826</td>\n",
       "      <td>290924</td>\n",
       "      <td>157894</td>\n",
       "    </tr>\n",
       "    <tr>\n",
       "      <th>2011</th>\n",
       "      <td>93315</td>\n",
       "      <td>309292</td>\n",
       "      <td>146901</td>\n",
       "    </tr>\n",
       "    <tr>\n",
       "      <th>2012</th>\n",
       "      <td>93392</td>\n",
       "      <td>334054</td>\n",
       "      <td>150014</td>\n",
       "    </tr>\n",
       "    <tr>\n",
       "      <th>2013</th>\n",
       "      <td>87222</td>\n",
       "      <td>306372</td>\n",
       "      <td>146181</td>\n",
       "    </tr>\n",
       "    <tr>\n",
       "      <th>2014</th>\n",
       "      <td>76053</td>\n",
       "      <td>279880</td>\n",
       "      <td>185349</td>\n",
       "    </tr>\n",
       "    <tr>\n",
       "      <th>2015</th>\n",
       "      <td>70489</td>\n",
       "      <td>284022</td>\n",
       "      <td>218740</td>\n",
       "    </tr>\n",
       "    <tr>\n",
       "      <th>2016</th>\n",
       "      <td>68285</td>\n",
       "      <td>294133</td>\n",
       "      <td>232381</td>\n",
       "    </tr>\n",
       "  </tbody>\n",
       "</table>\n",
       "</div>"
      ],
      "text/plain": [
       "major_category  Burglary  Theft and Handling  Violence Against the Person\n",
       "year                                                                     \n",
       "2008               88092              283692                       159844\n",
       "2009               90619              279492                       160777\n",
       "2010               86826              290924                       157894\n",
       "2011               93315              309292                       146901\n",
       "2012               93392              334054                       150014\n",
       "2013               87222              306372                       146181\n",
       "2014               76053              279880                       185349\n",
       "2015               70489              284022                       218740\n",
       "2016               68285              294133                       232381"
      ]
     },
     "execution_count": 5,
     "metadata": {},
     "output_type": "execute_result"
    }
   ],
   "source": [
    "major3_freq = london_crime.drop([\"lsoa_code\",\"borough\",\"minor_category\",\"month\"], axis=1).set_index(\"major_category\")\n",
    "major3_freq = major3_freq.loc[top3_major.index]\n",
    "major3_freq = pd.pivot_table(major3_freq, values=\"value\", aggfunc=np.sum, index=\"year\", columns=\"major_category\")\n",
    "major3_freq"
   ]
  },
  {
   "cell_type": "code",
   "execution_count": 6,
   "id": "69052714",
   "metadata": {},
   "outputs": [
    {
     "name": "stdout",
     "output_type": "stream",
     "text": [
      "[9 0 2 4 1 1 1 2 5 2]\n",
      "[ 68285.   94861.9 121438.8 148015.7 174592.6 201169.5 227746.4 254323.3\n",
      " 280900.2 307477.1 334054. ]\n"
     ]
    }
   ],
   "source": [
    "count, bin_edges = np.histogram(major3_freq)\n",
    "print(count)\n",
    "print(bin_edges)"
   ]
  },
  {
   "cell_type": "code",
   "execution_count": 7,
   "id": "589ca211",
   "metadata": {},
   "outputs": [
    {
     "data": {
      "image/png": "[encoded data removed]",
      "text/plain": [
       "<Figure size 720x504 with 1 Axes>"
      ]
     },
     "metadata": {
      "needs_background": "light"
     },
     "output_type": "display_data"
    }
   ],
   "source": [
    "major3_freq.plot(kind=\"hist\",\n",
    "                     figsize=(10,7),\n",
    "                     xticks=bin_edges,\n",
    "                     yticks=count)\n",
    "plt.title(\"Histogram of Crime Frequency from 3 Major Crime Category with Highest Number [2008-2016]\", fontsize=20)\n",
    "plt.xlabel(\"Number of Crime\", fontsize=15)\n",
    "plt.ylabel(\"Number of Years\", fontsize=15)\n",
    "plt.grid(color=\"grey\", linewidth=0.4)\n",
    "plt.show()"
   ]
  },
  {
   "cell_type": "markdown",
   "id": "b99834b1",
   "metadata": {},
   "source": [
    "Berdasarkan histogram berikut, kita dapat mengetahui bahwa kategori kejahatan/kriminal Bulgrary dari tahun 2008-2016 berkisar di angka 68285 sampai 94862. Sedangkan frekuensi tertinggi kategori Violance Against the Person berkisar di angka 148016 sampai 174593 dan frekuensi tertinggi kategori Theft and Handling berkisar di angka 280900 sampai 307477."
   ]
  },
  {
   "cell_type": "markdown",
   "id": "58e3b114",
   "metadata": {},
   "source": [
    "### Selain dari informasi yang sudah dilampirkan sebelumnya, dengan menggunakan Histogram juga dapat memperoleh informasi tentang distribusi frekuensi yang lebih spesifik lagi, seperti:\n",
    "1. Distribusi frekuensi kategori kejahatan/kriminal tertentu di wilayah metropolitan tertentu (misal distribusi frekuensi kategori Theft and Handling di Westminster tahun 2008-2016),\n",
    "2. Distribusi frekuensi kategori kejahatan/kriminal tertentu pada tahun tertentu (misal distribusi frekuensi kategori Drugs dan Criminal Damage pada tahun 2010), dst."
   ]
  },
  {
   "cell_type": "markdown",
   "id": "abe72648",
   "metadata": {},
   "source": [
    "# Conclusions"
   ]
  },
  {
   "cell_type": "markdown",
   "id": "f8c0b1e9",
   "metadata": {},
   "source": [
    "Dengan menggunakan Histogram kita dapat menyimpulkan beberapa informasi dari kumpulan data London Crime, 2008-2016, yaitu:\n",
    "1. Jumlah kasus kejahatan/kriminal di London tahun 2008-2016 memiliki frekuensi tahun tertinggi berkisar angka 700000 kasus. Artinya, berdasarkan distribusi ini, rata-rata jumlah kasus kejahatan/kriminal di London adalah 700000.\n",
    "2. Jumlah kasus kejahatan/kriminal di London tahun 2008-2016 berdasarkan frekuensi tertinggi jumlah wilayahnya berkisar di angka 180000 sampai 220000. Artinya rata-rata jumlah kasus kejahatan/kriminal di masing-masing wilayah metropolitannya adalah 180000-220000."
   ]
  }
 ],
 "metadata": {
  "kernelspec": {
   "display_name": "Python 3",
   "language": "python",
   "name": "python3"
  },
  "language_info": {
   "codemirror_mode": {
    "name": "ipython",
    "version": 3
   },
   "file_extension": ".py",
   "mimetype": "text/x-python",
   "name": "python",
   "nbconvert_exporter": "python",
   "pygments_lexer": "ipython3",
   "version": "3.8.8"
  },
  "toc": {
   "base_numbering": 1,
   "nav_menu": {},
   "number_sections": false,
   "sideBar": true,
   "skip_h1_title": false,
   "title_cell": "Table of Contents",
   "title_sidebar": "Contents",
   "toc_cell": false,
   "toc_position": {
    "height": "calc(100% - 180px)",
    "left": "10px",
    "top": "150px",
    "width": "303.542px"
   },
   "toc_section_display": true,
   "toc_window_display": true
  },
  "varInspector": {
   "cols": {
    "lenName": 16,
    "lenType": 16,
    "lenVar": 40
   },
   "kernels_config": {
    "python": {
     "delete_cmd_postfix": "",
     "delete_cmd_prefix": "del ",
     "library": "var_list.py",
     "varRefreshCmd": "print(var_dic_list())"
    },
    "r": {
     "delete_cmd_postfix": ") ",
     "delete_cmd_prefix": "rm(",
     "library": "var_list.r",
     "varRefreshCmd": "cat(var_dic_list()) "
    }
   },
   "types_to_exclude": [
    "module",
    "function",
    "builtin_function_or_method",
    "instance",
    "_Feature"
   ],
   "window_display": false
  }
 },
 "nbformat": 4,
 "nbformat_minor": 5
}
